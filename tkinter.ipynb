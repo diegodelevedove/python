{
 "cells": [
  {
   "cell_type": "code",
   "execution_count": 1,
   "metadata": {},
   "outputs": [],
   "source": [
    "#pra criar uma janelinha as funções abaixo\n",
    "#os elementos internos são widgets\n",
    "#use os elementos do python 3 : https://www.tutorialspoint.com/python3/python_gui_programming.htm\n",
    "\n",
    "import tkinter #com minusculo\n",
    "from tkinter import *\n",
    "from tkinter import messagebox\n",
    "\n",
    "top = tkinter.Tk()#Janela Aqui foi do python 2 tá deprecate\n",
    "top.mainloop()#Função que habilita o evento\n",
    "\n",
    "\n",
    "\n"
   ]
  },
  {
   "cell_type": "code",
   "execution_count": 10,
   "metadata": {},
   "outputs": [],
   "source": [
    "#Colocando botão na tela\n",
    "top = Tk()\n",
    "top.geometry(\"300x300\")#X e Y Tamanho da tela\n",
    "def testando():\n",
    "    msg = messagebox.showinfo(\"Clicando no Botão\")\n",
    "B1 = Button(top, text = \"Clique\", command=testando) # top porque vai aparecer na janela que criamos\n",
    "B1.place(x = 0,y = 0) # posição do botão da tela\n",
    "    \n",
    "top.mainloop()"
   ]
  }
 ],
 "metadata": {
  "kernelspec": {
   "display_name": "Python 3",
   "language": "python",
   "name": "python3"
  },
  "language_info": {
   "codemirror_mode": {
    "name": "ipython",
    "version": 3
   },
   "file_extension": ".py",
   "mimetype": "text/x-python",
   "name": "python",
   "nbconvert_exporter": "python",
   "pygments_lexer": "ipython3",
   "version": "3.7.0"
  }
 },
 "nbformat": 4,
 "nbformat_minor": 2
}
