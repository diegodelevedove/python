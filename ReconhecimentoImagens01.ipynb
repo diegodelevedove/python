{
 "cells": [
  {
   "cell_type": "code",
   "execution_count": 3,
   "metadata": {},
   "outputs": [
    {
     "ename": "error",
     "evalue": "OpenCV(4.4.0) C:\\Users\\appveyor\\AppData\\Local\\Temp\\1\\pip-req-build-52oirelq\\opencv\\modules\\objdetect\\src\\cascadedetect.cpp:1689: error: (-215:Assertion failed) !empty() in function 'cv::CascadeClassifier::detectMultiScale'\n",
     "output_type": "error",
     "traceback": [
      "\u001b[1;31m---------------------------------------------------------------------------\u001b[0m",
      "\u001b[1;31merror\u001b[0m                                     Traceback (most recent call last)",
      "\u001b[1;32m<ipython-input-3-0aa51ab335b8>\u001b[0m in \u001b[0;36m<module>\u001b[1;34m\u001b[0m\n\u001b[0;32m     25\u001b[0m         \u001b[0mminNeighbors\u001b[0m\u001b[1;33m=\u001b[0m\u001b[1;36m20\u001b[0m\u001b[1;33m,\u001b[0m\u001b[1;33m\u001b[0m\u001b[1;33m\u001b[0m\u001b[0m\n\u001b[0;32m     26\u001b[0m         \u001b[0mminSize\u001b[0m\u001b[1;33m=\u001b[0m\u001b[1;33m(\u001b[0m\u001b[1;36m30\u001b[0m\u001b[1;33m,\u001b[0m\u001b[1;36m30\u001b[0m\u001b[1;33m)\u001b[0m\u001b[1;33m,\u001b[0m\u001b[1;33m\u001b[0m\u001b[1;33m\u001b[0m\u001b[0m\n\u001b[1;32m---> 27\u001b[1;33m         \u001b[0mmaxSize\u001b[0m\u001b[1;33m=\u001b[0m\u001b[1;33m(\u001b[0m\u001b[1;36m300\u001b[0m\u001b[1;33m,\u001b[0m\u001b[1;36m300\u001b[0m\u001b[1;33m)\u001b[0m\u001b[1;33m\u001b[0m\u001b[1;33m\u001b[0m\u001b[0m\n\u001b[0m\u001b[0;32m     28\u001b[0m     )\n\u001b[0;32m     29\u001b[0m \u001b[1;33m\u001b[0m\u001b[0m\n",
      "\u001b[1;31merror\u001b[0m: OpenCV(4.4.0) C:\\Users\\appveyor\\AppData\\Local\\Temp\\1\\pip-req-build-52oirelq\\opencv\\modules\\objdetect\\src\\cascadedetect.cpp:1689: error: (-215:Assertion failed) !empty() in function 'cv::CascadeClassifier::detectMultiScale'\n"
     ]
    }
   ],
   "source": [
    "import cv2\n",
    "\n",
    "arqCasc1 = 'haarcascade_frontalface_default.xml'\n",
    "arqCasc2 = 'haarcascade_eye.xml'\n",
    "faceCascade1 = cv2.CascadeClassifier(arqCasc1) #classificador para o rosto\n",
    "faceCascade2 = cv2.CascadeClassifier(arqCasc2) #classificador para os olhos\n",
    "\n",
    "webcam = cv2.VideoCapture(0)  #instancia o uso da webcam\n",
    "\n",
    "while True:\n",
    "    s, imagem = webcam.read() #pega efeticamente a imagem da webcam\n",
    "    #imagem = cv2.flip(imagem,180) #espelha a imagem\n",
    "    ret, frame = webcam.read()\n",
    "    frame = cv2.resize(frame, None, fx=0.5, fy=0.5, interpolation=cv2.INTER_AREA)\n",
    "    cv2.imshow('Input', frame)\n",
    "    \n",
    "    c = cv2.waitKey(1)\n",
    "    if c == 27:\n",
    "        break\n",
    "    webcam.release()\n",
    "    cv2.destroyAllWindows()\n",
    "\n",
    "    faces = faceCascade1.detectMultiScale(\n",
    "        imagem,\n",
    "        minNeighbors=20,\n",
    "        minSize=(30,30),\n",
    "\tmaxSize=(300,300)\n",
    "    )\n",
    "\n",
    "    olhos = faceCascade2.detectMultiScale(\n",
    "        imagem,\n",
    "        minNeighbors=20,\n",
    "        minSize=(10, 10),\n",
    "\tmaxSize=(90,90)\n",
    "    )\n",
    "\n",
    "    # Desenha um retangulo nas faces e olhos detectados\n",
    "    for (x, y, w, h) in faces:\n",
    "        cv2.rectangle(imagem, (x, y), (x+w, y+h), (0, 255, 0), 4)\n",
    "\n",
    "    for (x, y, w, h) in olhos:\n",
    "        cv2.rectangle(imagem, (x, y), (x+w, y+h), (255, 0, 0), 2)\n",
    "\n",
    "    cv2.imshow('Video', imagem) #mostra a imagem captura na janela\n",
    "\n",
    "    #o trecho seguinte e apenas para parar o codigo e fechar a janela\n",
    "    if cv2.waitKey(1) & 0xFF == ord('q'):\n",
    "        break\n",
    "\n",
    "webcam.release() #dispensa o uso da webcam\n",
    "cv2.destroyAllWindows() #fecha todas a janelas abertas"
   ]
  },
  {
   "cell_type": "code",
   "execution_count": null,
   "metadata": {},
   "outputs": [],
   "source": []
  }
 ],
 "metadata": {
  "kernelspec": {
   "display_name": "Python 3",
   "language": "python",
   "name": "python3"
  },
  "language_info": {
   "codemirror_mode": {
    "name": "ipython",
    "version": 3
   },
   "file_extension": ".py",
   "mimetype": "text/x-python",
   "name": "python",
   "nbconvert_exporter": "python",
   "pygments_lexer": "ipython3",
   "version": "3.7.1"
  }
 },
 "nbformat": 4,
 "nbformat_minor": 2
}
