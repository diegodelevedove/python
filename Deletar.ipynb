{
 "cells": [
  {
   "cell_type": "code",
   "execution_count": 6,
   "metadata": {},
   "outputs": [
    {
     "ename": "SyntaxError",
     "evalue": "invalid syntax (<ipython-input-6-c58170732afb>, line 9)",
     "output_type": "error",
     "traceback": [
      "\u001b[1;36m  File \u001b[1;32m\"<ipython-input-6-c58170732afb>\"\u001b[1;36m, line \u001b[1;32m9\u001b[0m\n\u001b[1;33m    elif:\u001b[0m\n\u001b[1;37m       ^\u001b[0m\n\u001b[1;31mSyntaxError\u001b[0m\u001b[1;31m:\u001b[0m invalid syntax\n"
     ]
    }
   ],
   "source": [
    "#mediana\n",
    "lista = [8,5,6,9,12,3,2,5]\n",
    "lista.sort()\n",
    "print(lista)\n",
    "print(\"Número de itens da lista: \"+ str(len(lista)))\n",
    "if len(lista)%2==0:\n",
    "    print(\"lista tem N igual a par portando: N/2 é o localizador da média\")\n",
    "    print(len(lista)/2)\n",
    "    elif:\n",
    "        len(lista)%3==0:\n",
    "        print(\"lista tem N igual a par portando: N+1/2 é o localizador da média\")\n",
    "        print(len(lista)+1/2)\n",
    "else:\n",
    "    print(\"Lista impar portando o localizado é N+1/2\")\n",
    "def calcular():\n",
    "    pt = []\n",
    "    st = []\n",
    "    \n",
    "    \n",
    "\n",
    "    \n",
    "    \n",
    "            \n",
    "        \n",
    "    \n",
    "    \n",
    "#vamos calc na média\n"
   ]
  },
  {
   "cell_type": "code",
   "execution_count": null,
   "metadata": {},
   "outputs": [],
   "source": []
  },
  {
   "cell_type": "code",
   "execution_count": 69,
   "metadata": {},
   "outputs": [
    {
     "name": "stdout",
     "output_type": "stream",
     "text": [
      "[2, 3, 5, 5, 6, 8, 9, 12]\n"
     ]
    }
   ],
   "source": [
    "lista = [8,5,6,9,12,3,2,5]\n",
    "lista.sort()\n",
    "print(lista)\n",
    "\n",
    "\n",
    "      "
   ]
  },
  {
   "cell_type": "code",
   "execution_count": null,
   "metadata": {},
   "outputs": [],
   "source": [
    "#calcular pA na lista\n",
    "#Termo Geral\n",
    "# an = a1+(n-1).r"
   ]
  },
  {
   "cell_type": "code",
   "execution_count": 29,
   "metadata": {},
   "outputs": [
    {
     "data": {
      "text/plain": [
       "[]"
      ]
     },
     "execution_count": 29,
     "metadata": {},
     "output_type": "execute_result"
    }
   ],
   "source": [
    "def checar(num_lista):\n",
    "    #return all the even numbers\n",
    "    #placehold variables\n",
    "    pares = [] #vai fazer o looping primeiro depois que vai retornar\n",
    "    \n",
    "    for numero in num_lista:\n",
    "        if numero % 2 == 0:\n",
    "            pares.append(numero)\n",
    "            \n",
    "        else:\n",
    "            pass\n",
    "        \n",
    "        return pares\n",
    "        \n",
    "checar([1,2,3,4,5])"
   ]
  },
  {
   "cell_type": "code",
   "execution_count": 42,
   "metadata": {},
   "outputs": [
    {
     "name": "stdout",
     "output_type": "stream",
     "text": [
      "12\n",
      "alfa\n",
      "15\n"
     ]
    }
   ],
   "source": [
    "lista = [(12),(\"alfa\"),(15)]\n",
    "for x in lista:\n",
    "    print(x)\n",
    "    \n",
    "    \n",
    "   "
   ]
  },
  {
   "cell_type": "code",
   "execution_count": 45,
   "metadata": {},
   "outputs": [
    {
     "data": {
      "text/plain": [
       "(900, 'isabel')"
      ]
     },
     "execution_count": 45,
     "metadata": {},
     "output_type": "execute_result"
    }
   ],
   "source": [
    "workers = [('joana',100),('maria',500),('isabel',900)]\n",
    "def checkworkers(workers):\n",
    "    salario = 0\n",
    "    empregadomes = ''\n",
    "    \n",
    "    for workers,horas in workers:\n",
    "        if horas > salario:\n",
    "            salario = horas\n",
    "            empregadomes = workers\n",
    "        else:\n",
    "            pass\n",
    "    \n",
    "    return (salario,empregadomes)\n",
    "checkworkers(workers)\n",
    "\n",
    "#também pode fazer assim\n",
    "result = checkworkers(workers)\n",
    "horas,salario = checkworkers(workers)\n",
    "result\n",
    "workers \n",
    "horas\n",
    "#ele rt"
   ]
  },
  {
   "cell_type": "code",
   "execution_count": 1,
   "metadata": {},
   "outputs": [
    {
     "data": {
      "text/plain": [
       "'Hello'"
      ]
     },
     "execution_count": 1,
     "metadata": {},
     "output_type": "execute_result"
    }
   ],
   "source": [
    "a = 2\n",
    "def myfunc(a):\n",
    "    if a > 1:\n",
    "        return \"Hello\"\n",
    "    elif a < 1:\n",
    "        return \"GoodBye\"\n",
    "    \n",
    "myfunc(a)    "
   ]
  },
  {
   "cell_type": "code",
   "execution_count": 5,
   "metadata": {},
   "outputs": [
    {
     "data": {
      "text/plain": [
       "9"
      ]
     },
     "execution_count": 5,
     "metadata": {},
     "output_type": "execute_result"
    }
   ],
   "source": [
    "listona = [5,6,7,8,9]\n",
    "listona\n",
    "max(listona)\n"
   ]
  },
  {
   "cell_type": "code",
   "execution_count": 7,
   "metadata": {},
   "outputs": [],
   "source": [
    "def foo(a,b):\n",
    "    return sum((a,b))*0,5 \n",
    "foo(10,5)\n",
    "#mas e se quisermos retornar mais valores\n",
    "def foo(a,b,c=5,d=2)"
   ]
  },
  {
   "cell_type": "code",
   "execution_count": 8,
   "metadata": {},
   "outputs": [
    {
     "data": {
      "text/plain": [
       "(0, 5)"
      ]
     },
     "execution_count": 8,
     "metadata": {},
     "output_type": "execute_result"
    }
   ],
   "source": [
    "foo(10,5)"
   ]
  },
  {
   "cell_type": "code",
   "execution_count": 10,
   "metadata": {},
   "outputs": [
    {
     "data": {
      "text/plain": [
       "20"
      ]
     },
     "execution_count": 10,
     "metadata": {},
     "output_type": "execute_result"
    }
   ],
   "source": [
    "#Vai receber mais de um argumento,sem precisar definir a variável\n",
    "def foo(*args):\n",
    "    return sum(args)\n",
    "foo(10,5,2,3)\n"
   ]
  },
  {
   "cell_type": "code",
   "execution_count": 24,
   "metadata": {},
   "outputs": [
    {
     "name": "stdout",
     "output_type": "stream",
     "text": [
      "{'fruits': 'apple', 'veggie': 'cabbage'}\n",
      "My fruint of choice is apple\n"
     ]
    }
   ],
   "source": [
    "#passo mais de um argumento \n",
    "def myfunc(**kwargs):\n",
    "    #se printar aqui ele mostra o dicionário que é como a função guarda esse argumento\n",
    "    print(kwargs)\n",
    "    if 'fruit in kwargs':\n",
    "        print('My fruint of choice is {}'.format(kwargs['fruits']))\n",
    "    else:\n",
    "        print('i did not find any fruit here')\n",
    "        \n",
    "myfunc(fruits=\"apple\",veggie='cabbage')  \n",
    "#{'fruits': 'apple', 'veggie': 'cabbage'}\n",
    "#My fruint of choice is apple"
   ]
  },
  {
   "cell_type": "code",
   "execution_count": 32,
   "metadata": {},
   "outputs": [],
   "source": [
    "#A ordem importa aqui dos argumentos\n",
    "def myfunc(*args,**kwargs):\n",
    "    #monstrano os onbjetos\n",
    "    print(args)\n",
    "    print(kwargs)\n",
    "    print('I would like {}{} '.format(args[0],kwargs['food']))"
   ]
  },
  {
   "cell_type": "code",
   "execution_count": 1,
   "metadata": {},
   "outputs": [
    {
     "ename": "NameError",
     "evalue": "name 'myfunc' is not defined",
     "output_type": "error",
     "traceback": [
      "\u001b[1;31m---------------------------------------------------------------------------\u001b[0m",
      "\u001b[1;31mNameError\u001b[0m                                 Traceback (most recent call last)",
      "\u001b[1;32m<ipython-input-1-23803cb9e09e>\u001b[0m in \u001b[0;36m<module>\u001b[1;34m\u001b[0m\n\u001b[1;32m----> 1\u001b[1;33m \u001b[0mmyfunc\u001b[0m\u001b[1;33m(\u001b[0m\u001b[1;36m10\u001b[0m\u001b[1;33m,\u001b[0m\u001b[1;36m20\u001b[0m\u001b[1;33m,\u001b[0m\u001b[1;36m30\u001b[0m\u001b[1;33m,\u001b[0m\u001b[0mfruit\u001b[0m\u001b[1;33m=\u001b[0m\u001b[1;34m'orange'\u001b[0m\u001b[1;33m,\u001b[0m\u001b[0mfood\u001b[0m\u001b[1;33m=\u001b[0m\u001b[1;34m'eggs'\u001b[0m\u001b[1;33m,\u001b[0m\u001b[0manimal\u001b[0m\u001b[1;33m=\u001b[0m\u001b[1;34m'dog'\u001b[0m\u001b[1;33m)\u001b[0m\u001b[1;33m\u001b[0m\u001b[1;33m\u001b[0m\u001b[0m\n\u001b[0m",
      "\u001b[1;31mNameError\u001b[0m: name 'myfunc' is not defined"
     ]
    }
   ],
   "source": [
    "myfunc(10,20,30,fruit='orange',food='eggs',animal='dog')"
   ]
  },
  {
   "cell_type": "code",
   "execution_count": 54,
   "metadata": {},
   "outputs": [
    {
     "ename": "TypeError",
     "evalue": "unsupported operand type(s) for %: 'builtin_function_or_method' and 'int'",
     "output_type": "error",
     "traceback": [
      "\u001b[1;31m---------------------------------------------------------------------------\u001b[0m",
      "\u001b[1;31mTypeError\u001b[0m                                 Traceback (most recent call last)",
      "\u001b[1;32m<ipython-input-54-9956928a0f40>\u001b[0m in \u001b[0;36m<module>\u001b[1;34m\u001b[0m\n\u001b[0;32m      8\u001b[0m \u001b[1;33m\u001b[0m\u001b[0m\n\u001b[0;32m      9\u001b[0m \u001b[1;33m\u001b[0m\u001b[0m\n\u001b[1;32m---> 10\u001b[1;33m \u001b[0mmofo\u001b[0m\u001b[1;33m(\u001b[0m\u001b[1;34m\"ninrod\"\u001b[0m\u001b[1;33m)\u001b[0m\u001b[1;33m\u001b[0m\u001b[1;33m\u001b[0m\u001b[0m\n\u001b[0m",
      "\u001b[1;32m<ipython-input-54-9956928a0f40>\u001b[0m in \u001b[0;36mmofo\u001b[1;34m(x)\u001b[0m\n\u001b[0;32m      1\u001b[0m \u001b[1;32mdef\u001b[0m \u001b[0mmofo\u001b[0m\u001b[1;33m(\u001b[0m\u001b[0mx\u001b[0m\u001b[1;33m)\u001b[0m\u001b[1;33m:\u001b[0m\u001b[1;33m\u001b[0m\u001b[1;33m\u001b[0m\u001b[0m\n\u001b[0;32m      2\u001b[0m     \u001b[1;32mfor\u001b[0m \u001b[0my\u001b[0m \u001b[1;32min\u001b[0m \u001b[0mx\u001b[0m\u001b[1;33m:\u001b[0m\u001b[1;33m\u001b[0m\u001b[1;33m\u001b[0m\u001b[0m\n\u001b[1;32m----> 3\u001b[1;33m         \u001b[1;32mif\u001b[0m \u001b[0mx\u001b[0m\u001b[1;33m.\u001b[0m\u001b[0mindex\u001b[0m\u001b[1;33m%\u001b[0m \u001b[1;36m2\u001b[0m \u001b[1;33m==\u001b[0m \u001b[1;36m0\u001b[0m\u001b[1;33m:\u001b[0m\u001b[1;33m\u001b[0m\u001b[1;33m\u001b[0m\u001b[0m\n\u001b[0m\u001b[0;32m      4\u001b[0m             \u001b[1;32mreturn\u001b[0m \u001b[0my\u001b[0m\u001b[1;33m.\u001b[0m\u001b[0mupper\u001b[0m\u001b[1;33m(\u001b[0m\u001b[1;33m)\u001b[0m\u001b[1;33m\u001b[0m\u001b[1;33m\u001b[0m\u001b[0m\n\u001b[0;32m      5\u001b[0m         \u001b[1;32melse\u001b[0m\u001b[1;33m:\u001b[0m\u001b[1;33m\u001b[0m\u001b[1;33m\u001b[0m\u001b[0m\n",
      "\u001b[1;31mTypeError\u001b[0m: unsupported operand type(s) for %: 'builtin_function_or_method' and 'int'"
     ]
    }
   ],
   "source": [
    "def mofo(x):\n",
    "    for y in x:\n",
    "        if x.index% 2 == 0:\n",
    "            return y.upper()\n",
    "        else:\n",
    "            if x.index%3 == 0:\n",
    "                return y.down()\n",
    "        \n",
    "    \n",
    "mofo(\"ninrod\")"
   ]
  },
  {
   "cell_type": "code",
   "execution_count": 1,
   "metadata": {},
   "outputs": [
    {
     "data": {
      "text/plain": [
       "'nInRoD'"
      ]
     },
     "execution_count": 1,
     "metadata": {},
     "output_type": "execute_result"
    }
   ],
   "source": [
    "def myfunc(x):\n",
    "    out = []\n",
    "    for i in range(len(x)):\n",
    "        if i%2==0:\n",
    "            out.append(x[i].lower())\n",
    "        else:\n",
    "            out.append(x[i].upper())\n",
    "    return ''.join(out)   \n",
    "\n",
    "myfunc(\"ninrod\")"
   ]
  },
  {
   "cell_type": "code",
   "execution_count": 1,
   "metadata": {},
   "outputs": [],
   "source": [
    "nome = \"eleonora\"\n",
    "lista = ['jonh','james','Jason','Jimmy']\n",
    "tuplaa = ('doze','nove','Quinze')\n",
    "dici = {'Marcelo':19,'Joana':'15','Max':12}\n",
    "\n",
    "\n",
    "\n",
    "\n",
    "\n"
   ]
  },
  {
   "cell_type": "code",
   "execution_count": 81,
   "metadata": {},
   "outputs": [
    {
     "data": {
      "text/plain": [
       "True"
      ]
     },
     "execution_count": 81,
     "metadata": {},
     "output_type": "execute_result"
    }
   ],
   "source": [
    "#exercicio\n",
    "#pega dois valores e diz se o menor é par ou impar\n",
    "def tutu(x,y):\n",
    "    if x + y == 20:\n",
    "        print(True)\n",
    "    elif x or y == 20:\n",
    "        return True\n",
    "        \n",
    "       \n",
    "tutu(20,5)    \n"
   ]
  }
 ],
 "metadata": {
  "kernelspec": {
   "display_name": "Python 3",
   "language": "python",
   "name": "python3"
  },
  "language_info": {
   "codemirror_mode": {
    "name": "ipython",
    "version": 3
   },
   "file_extension": ".py",
   "mimetype": "text/x-python",
   "name": "python",
   "nbconvert_exporter": "python",
   "pygments_lexer": "ipython3",
   "version": "3.7.1"
  }
 },
 "nbformat": 4,
 "nbformat_minor": 2
}
