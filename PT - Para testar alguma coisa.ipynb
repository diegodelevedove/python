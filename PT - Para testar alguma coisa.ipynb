{
 "cells": [
  {
   "cell_type": "code",
   "execution_count": 4,
   "metadata": {},
   "outputs": [
    {
     "name": "stdout",
     "output_type": "stream",
     "text": [
      "Retornando aqui\n",
      "Retornando aqui\n",
      "Retornando aqui\n",
      "Retornando aqui\n",
      "Retornando aqui\n"
     ]
    }
   ],
   "source": [
    "a = \"Retornando aqui\"\n",
    "def roda():\n",
    "    print(a)\n",
    "for list in range (5):\n",
    "    roda()\n",
    "    \n",
    "    \n"
   ]
  }
 ],
 "metadata": {
  "kernelspec": {
   "display_name": "Python 3",
   "language": "python",
   "name": "python3"
  },
  "language_info": {
   "codemirror_mode": {
    "name": "ipython",
    "version": 3
   },
   "file_extension": ".py",
   "mimetype": "text/x-python",
   "name": "python",
   "nbconvert_exporter": "python",
   "pygments_lexer": "ipython3",
   "version": "3.7.1"
  }
 },
 "nbformat": 4,
 "nbformat_minor": 2
}
