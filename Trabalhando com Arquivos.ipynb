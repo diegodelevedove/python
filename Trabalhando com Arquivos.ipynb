{
 "cells": [
  {
   "cell_type": "code",
   "execution_count": 4,
   "metadata": {},
   "outputs": [
    {
     "ename": "FileNotFoundError",
     "evalue": "[Errno 2] No such file or directory: 'C:/Users/Diego/Desktop/Atividade Mongo.txt'",
     "output_type": "error",
     "traceback": [
      "\u001b[1;31m---------------------------------------------------------------------------\u001b[0m",
      "\u001b[1;31mFileNotFoundError\u001b[0m                         Traceback (most recent call last)",
      "\u001b[1;32m<ipython-input-4-edef120bd3fa>\u001b[0m in \u001b[0;36m<module>\u001b[1;34m\u001b[0m\n\u001b[0;32m      6\u001b[0m \u001b[1;32mfrom\u001b[0m \u001b[0mos\u001b[0m \u001b[1;32mimport\u001b[0m \u001b[0mwalk\u001b[0m\u001b[1;33m\u001b[0m\u001b[1;33m\u001b[0m\u001b[0m\n\u001b[0;32m      7\u001b[0m \u001b[1;33m\u001b[0m\u001b[0m\n\u001b[1;32m----> 8\u001b[1;33m \u001b[0mfile\u001b[0m \u001b[1;33m=\u001b[0m \u001b[0mopen\u001b[0m\u001b[1;33m(\u001b[0m\u001b[1;34m\"C:/Users/Diego/Desktop/Atividade Mongo.txt\"\u001b[0m\u001b[1;33m,\u001b[0m \u001b[1;34m'r'\u001b[0m\u001b[1;33m)\u001b[0m \u001b[1;31m# r readOnly , w writeOnly , r+ w+ both for both, a = append\u001b[0m\u001b[1;33m\u001b[0m\u001b[1;33m\u001b[0m\u001b[0m\n\u001b[0m\u001b[0;32m      9\u001b[0m \u001b[0mprint\u001b[0m\u001b[1;33m(\u001b[0m\u001b[0mfile\u001b[0m\u001b[1;33m)\u001b[0m\u001b[1;33m\u001b[0m\u001b[1;33m\u001b[0m\u001b[0m\n\u001b[0;32m     10\u001b[0m \u001b[0mfile2\u001b[0m \u001b[1;33m=\u001b[0m \u001b[0mopen\u001b[0m\u001b[1;33m(\u001b[0m\u001b[1;34m\"C:/Users/Diego/Desktop/Atividade Mongo.txt\"\u001b[0m\u001b[1;33m,\u001b[0m \u001b[1;34m'a'\u001b[0m\u001b[1;33m)\u001b[0m\u001b[1;33m\u001b[0m\u001b[1;33m\u001b[0m\u001b[0m\n",
      "\u001b[1;31mFileNotFoundError\u001b[0m: [Errno 2] No such file or directory: 'C:/Users/Diego/Desktop/Atividade Mongo.txt'"
     ]
    }
   ],
   "source": [
    "#Arquivos IO \n",
    "\n",
    "import os\n",
    "import sys\n",
    "import glob\n",
    "from os import walk\n",
    "\n",
    "file = open(\"C:/Users/Diego/Desktop/Atividade Mongo.txt\", 'r') # r readOnly , w writeOnly , r+ w+ both for both, a = append\n",
    "print(file)\n",
    "file2 = open(\"C:/Users/Diego/Desktop/Atividade Mongo.txt\", 'a')\n",
    "print(file2)\n",
    "\n",
    "file.mode\n",
    "file.name\n",
    "file.close()\n"
   ]
  },
  {
   "cell_type": "code",
   "execution_count": 135,
   "metadata": {},
   "outputs": [],
   "source": [
    "#Criando arquivos \n",
    "#Trasferindo o conteúdo da da ide para um arquivo ou uma saida\n",
    "\n",
    "w = open(\"C:/Users/Diego/Desktop/writepython.txt\" ,'w')\n",
    "w.write(\"Python leva tempo mas é uma ótima ferramenta para programar\")\n",
    "w.close()\n",
    "#Rename os arquivos\n",
    "#os.rename(current_file_name, new_file_name)\n"
   ]
  },
  {
   "cell_type": "code",
   "execution_count": 154,
   "metadata": {},
   "outputs": [
    {
     "name": "stdout",
     "output_type": "stream",
     "text": [
      "[]\n",
      "['dados1.xml']\n",
      "['dados2.xml']\n",
      "['dados3.xml']\n"
     ]
    }
   ],
   "source": [
    "#Lendo Arquivos\n",
    "lendo = 'C:/Users/Diego/Desktop/teste'\n",
    "for lista in os.walk(lendo ,'a'):\n",
    "    print(lista[2])\n",
    "\n",
    "   \n",
    "\n",
    "\n",
    "\n"
   ]
  },
  {
   "cell_type": "code",
   "execution_count": 133,
   "metadata": {},
   "outputs": [
    {
     "name": "stdout",
     "output_type": "stream",
     "text": [
      "C:/Users/Diego/Desktop/teste\n",
      "C:/Users/Diego/Desktop/teste\\interno1\n",
      "C:/Users/Diego/Desktop/teste\\interno2\n",
      "C:/Users/Diego/Desktop/teste\\interno3\n"
     ]
    }
   ],
   "source": [
    "path = 'C:/Users/Diego/Desktop/teste'\n",
    "for path,folder,file in os.walk(path):\n",
    "    print(path) # Observe aqui que o caminho vai certinho até a declaração da pasta raiz\n",
    "    \n",
    "    \n",
    "        "
   ]
  },
  {
   "cell_type": "code",
   "execution_count": 153,
   "metadata": {},
   "outputs": [
    {
     "name": "stdout",
     "output_type": "stream",
     "text": [
      "C:/Users/Diego/Desktop/teste/interno1\\dados1.xml\n"
     ]
    }
   ],
   "source": [
    "path = glob.glob(\"C:/Users/Diego/Desktop/teste/interno1/*.xml\")# o glob não entra na subpasta\n",
    "for list in path:\n",
    "    print(list)"
   ]
  },
  {
   "cell_type": "code",
   "execution_count": 194,
   "metadata": {},
   "outputs": [
    {
     "name": "stdout",
     "output_type": "stream",
     "text": [
      "('C:/Users/Diego/Desktop/teste', ['interno1', 'interno2', 'interno3'], [])\n",
      "('C:/Users/Diego/Desktop/teste\\\\interno1', [], ['dados1.xml'])\n",
      "('C:/Users/Diego/Desktop/teste\\\\interno2', [], ['dados2.xml'])\n",
      "('C:/Users/Diego/Desktop/teste\\\\interno3', [], ['dados3.xml'])\n"
     ]
    }
   ],
   "source": [
    "#O jeito é com o walk mesmo e juntar as strings depois fazer um lanço pra abri uma por uma\n",
    "\n",
    "path = 'C:/Users/Diego/Desktop/teste'\n",
    "for path in os.walk(path):\n",
    "    print(path)\n",
    "    \n",
    "    \n",
    "                \n",
    "    "
   ]
  },
  {
   "cell_type": "code",
   "execution_count": 6,
   "metadata": {},
   "outputs": [
    {
     "name": "stdout",
     "output_type": "stream",
     "text": [
      "C:/Users/Diego/Desktop/pythonRead\n"
     ]
    }
   ],
   "source": []
  }
 ],
 "metadata": {
  "kernelspec": {
   "display_name": "Python 3",
   "language": "python",
   "name": "python3"
  },
  "language_info": {
   "codemirror_mode": {
    "name": "ipython",
    "version": 3
   },
   "file_extension": ".py",
   "mimetype": "text/x-python",
   "name": "python",
   "nbconvert_exporter": "python",
   "pygments_lexer": "ipython3",
   "version": "3.7.1"
  }
 },
 "nbformat": 4,
 "nbformat_minor": 2
}
