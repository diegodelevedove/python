{
 "cells": [
  {
   "cell_type": "code",
   "execution_count": null,
   "metadata": {},
   "outputs": [],
   "source": [
    "#calculando a média,mediana,moda,variância,desvio padrão"
   ]
  },
  {
   "cell_type": "code",
   "execution_count": 30,
   "metadata": {},
   "outputs": [],
   "source": [
    "dados = [1,2,2,3,5]\n",
    "setsize = len(dados)\n",
    "media = sum(dados)/setsize\n",
    "#mediana ou ponto médio\n",
    "if setsize % 2 == 0:\n",
    "    pospar = setsize/2\n",
    "    pospar1 = int(pospar-1)\n",
    "    pospar2 = int(pospar)\n",
    "    #calc1 = dados[pospar1]-dados[pospar2]/setsize\n",
    "#moda quem mais aparece \n",
    "\n",
    "   \n",
    "    \n",
    "  \n",
    "\n"
   ]
  },
  {
   "cell_type": "code",
   "execution_count": 32,
   "metadata": {},
   "outputs": [
    {
     "name": "stdout",
     "output_type": "stream",
     "text": [
      "[1, 2, 2, 3, 5]\n",
      "Média\n",
      "2.6\n",
      "Mediana\n",
      "2.6\n",
      "moda\n"
     ]
    }
   ],
   "source": [
    "print(dados)\n",
    "print(\"Média\")\n",
    "print(media)\n",
    "print(\"Mediana\")\n",
    "print(sum(dados)/setsize)\n",
    "print(\"moda\")\n",
    "\n"
   ]
  },
  {
   "cell_type": "code",
   "execution_count": 63,
   "metadata": {},
   "outputs": [
    {
     "data": {
      "text/plain": [
       "[1, 2, 5]"
      ]
     },
     "execution_count": 63,
     "metadata": {},
     "output_type": "execute_result"
    }
   ],
   "source": [
    "dados\n",
    "dados[0::2]\n"
   ]
  }
 ],
 "metadata": {
  "kernelspec": {
   "display_name": "Python 3",
   "language": "python",
   "name": "python3"
  },
  "language_info": {
   "codemirror_mode": {
    "name": "ipython",
    "version": 3
   },
   "file_extension": ".py",
   "mimetype": "text/x-python",
   "name": "python",
   "nbconvert_exporter": "python",
   "pygments_lexer": "ipython3",
   "version": "3.7.1"
  }
 },
 "nbformat": 4,
 "nbformat_minor": 2
}
