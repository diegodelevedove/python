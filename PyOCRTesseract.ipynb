{
 "cells": [
  {
   "cell_type": "code",
   "execution_count": 3,
   "metadata": {},
   "outputs": [],
   "source": [
    "# pip install pytesseract\n",
    "# pip install tesseract\n",
    "# pip install tesseract-ocr\n",
    "# para uso no Windows instale o maihen\n",
    "# https://github.com/UB-Mannheim/tesseract/wiki\n",
    "# Cookbook : https://pypi.org/project/pytesseract/#description\n",
    "\n",
    "import pytesseract\n",
    "from PIL import Image"
   ]
  },
  {
   "cell_type": "code",
   "execution_count": 40,
   "metadata": {},
   "outputs": [
    {
     "name": "stdout",
     "output_type": "stream",
     "text": [
      "GASTRONOMIA\n",
      "BARES E CHOPPE\n"
     ]
    }
   ],
   "source": [
    "#Lendo Imagens para texto\n",
    "pytesseract.pytesseract.tesseract_cmd = r'C:\\\\Program Files\\\\Tesseract-OCR\\\\tesseract.exe' # Caminho do Arquivo\n",
    "print(pytesseract.image_to_string(Image.open('C:/Users/Adm/Desktop/ocr2.png')))"
   ]
  },
  {
   "cell_type": "code",
   "execution_count": 31,
   "metadata": {},
   "outputs": [
    {
     "name": "stdout",
     "output_type": "stream",
     "text": [
      "G 24 131 66 176 0\n",
      "A 66 133 107 175 0\n",
      "S 108 131 144 177 0\n",
      "T 143 133 180 176 0\n",
      "R 183 132 224 176 0\n",
      "O 223 131 266 177 0\n",
      "N 270 133 308 176 0\n",
      "O 273 128 350 177 0\n",
      "M 312 128 356 177 0\n",
      "I 359 133 405 176 0\n",
      "A 409 133 476 176 0\n",
      "B 27 39 64 80 0\n",
      "A 65 39 104 80 0\n",
      "R 73 38 137 82 0\n",
      "E 107 39 148 81 0\n",
      "S 150 38 220 82 0\n",
      "E 240 39 271 81 0\n",
      "C 290 38 328 82 0\n",
      "H 332 39 369 81 0\n",
      "O 374 38 418 99 0\n",
      "P 383 38 448 99 0\n",
      "P 422 39 457 81 0\n",
      "E 460 39 529 81 0\n"
     ]
    }
   ],
   "source": [
    "# Pegando as Dimensões e Localização dos Caracteres\n",
    "\n",
    "print(pytesseract.pytesseract.image_to_boxes(Image.open('C:/Users/Adm/Desktop/ocr2.png')))"
   ]
  },
  {
   "cell_type": "code",
   "execution_count": 57,
   "metadata": {},
   "outputs": [
    {
     "name": "stdout",
     "output_type": "stream",
     "text": [
      "level\tpage_num\tblock_num\tpar_num\tline_num\tword_num\tleft\ttop\twidth\theight\tconf\ttext\n",
      "1\t1\t0\t0\t0\t0\t0\t0\t531\t209\t-1\t\n",
      "2\t1\t1\t0\t0\t0\t24\t32\t505\t139\t-1\t\n",
      "3\t1\t1\t1\t0\t0\t24\t32\t505\t139\t-1\t\n",
      "4\t1\t1\t1\t1\t0\t24\t32\t452\t49\t-1\t\n",
      "5\t1\t1\t1\t1\t1\t24\t32\t452\t49\t91\tGASTRONOMIA\n",
      "4\t1\t1\t1\t2\t0\t27\t110\t502\t61\t-1\t\n",
      "5\t1\t1\t1\t2\t1\t27\t127\t193\t44\t93\tBARES\n",
      "5\t1\t1\t1\t2\t2\t240\t128\t31\t42\t88\tE\n",
      "5\t1\t1\t1\t2\t3\t290\t110\t239\t61\t88\tCHOPPE\n"
     ]
    }
   ],
   "source": [
    "# pegando metadados\n",
    "\n",
    "print(pytesseract.pytesseract.image_to_data(Image.open('C:/Users/Adm/Desktop/ocr2.png')))\n"
   ]
  },
  {
   "cell_type": "code",
   "execution_count": 5,
   "metadata": {},
   "outputs": [],
   "source": [
    "#Extraindo um pdf de uma imagen\n",
    "\n",
    "#print(pytesseract.image_to_pdf_or_hocr(Image.open('C:/Users/Diego/Desktop/testeRelePartida.PNG'),extension='pdf'))\n",
    "\n"
   ]
  },
  {
   "cell_type": "code",
   "execution_count": 48,
   "metadata": {},
   "outputs": [
    {
     "name": "stdout",
     "output_type": "stream",
     "text": [
      "<function get_tesseract_version at 0x0000019127704EA0>\n"
     ]
    }
   ],
   "source": [
    "version = (pytesseract.get_tesseract_version)\n",
    "print(version)"
   ]
  },
  {
   "cell_type": "code",
   "execution_count": null,
   "metadata": {},
   "outputs": [],
   "source": []
  }
 ],
 "metadata": {
  "kernelspec": {
   "display_name": "Python 3",
   "language": "python",
   "name": "python3"
  },
  "language_info": {
   "codemirror_mode": {
    "name": "ipython",
    "version": 3
   },
   "file_extension": ".py",
   "mimetype": "text/x-python",
   "name": "python",
   "nbconvert_exporter": "python",
   "pygments_lexer": "ipython3",
   "version": "3.7.1"
  }
 },
 "nbformat": 4,
 "nbformat_minor": 2
}
