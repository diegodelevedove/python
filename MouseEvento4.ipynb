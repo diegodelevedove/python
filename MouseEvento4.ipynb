{
 "cells": [
  {
   "cell_type": "code",
   "execution_count": 52,
   "metadata": {},
   "outputs": [],
   "source": [
    "#Caso de Erro Update no Conda\n",
    "from selenium import webdriver\n",
    "import os\n",
    "import time\n",
    "from selenium.webdriver.common.keys import Keys\n",
    "import numpy as np\n",
    "import pandas as pd\n",
    "import time\n",
    "from selenium.webdriver.support.select import Select\n",
    "from selenium.webdriver.common.action_chains import ActionChains#esse importe é o responsável pelo movimento do mouse\n",
    "from pynput.mouse import Button, Controller\n",
    "import pynput\n",
    "import win32api, win32con\n",
    "\n"
   ]
  },
  {
   "cell_type": "code",
   "execution_count": 28,
   "metadata": {},
   "outputs": [],
   "source": [
    "#Conectando com o Serviço do Navegador\n",
    "chromedriver = \"chromedriver.exe\"\n",
    "os.environ[\"webddriver.chromedriver\"] = chromedriver\n",
    "#Definindo o Navegador para o Scrapper - Usando Local\n",
    "driver = webdriver.Chrome(\"C:/ProgramData/Anaconda3/Lib/site-packages/selenium/webdriver/common/chromedriver.exe\")\n"
   ]
  },
  {
   "cell_type": "code",
   "execution_count": 29,
   "metadata": {},
   "outputs": [],
   "source": [
    "#Definindo o Site para pegar os Dados\n",
    "#Se for usar firefox use esse\n",
    "#driver = webdriver.Firefox(executable_path=\"\");\n",
    "#driver.get(\"https://UrlToOpen\");\n",
    "\n",
    "driver.get(\"https://www.google.com.br/\")"
   ]
  },
  {
   "cell_type": "code",
   "execution_count": 8,
   "metadata": {},
   "outputs": [],
   "source": [
    "#ac = ActionChains(driver)\n",
    "#time.sleep(3)\n",
    "#ac.move_to_element(driver.find_element_by_css_selector(\"input[class='gLFyf gsfi']\"))\n",
    "#ac.click(driver.find_element_by_css_selector(\"input[name = 'btnK']\"))\n",
    "#ac.perform()"
   ]
  },
  {
   "cell_type": "code",
   "execution_count": 68,
   "metadata": {},
   "outputs": [
    {
     "name": "stdout",
     "output_type": "stream",
     "text": [
      "Posição do Mouse: (10, 30)\n"
     ]
    }
   ],
   "source": [
    "mouse = Controller()\n",
    "print(\"Posição do Mouse: \" + str(mouse.position))\n",
    "\n",
    "\n"
   ]
  },
  {
   "cell_type": "code",
   "execution_count": 66,
   "metadata": {},
   "outputs": [],
   "source": [
    "#Aqui funcionou direitinho Tem que importar import win32api, win32con\n",
    "def click(x,y):\n",
    "    win32api.SetCursorPos((x,y))\n",
    "    win32api.mouse_event(win32con.MOUSEEVENTF_LEFTDOWN,x,y,0,0)\n",
    "    win32api.mouse_event(win32con.MOUSEEVENTF_LEFTUP,x,y,0,0)\n",
    "click(1000,500)"
   ]
  },
  {
   "cell_type": "code",
   "execution_count": null,
   "metadata": {},
   "outputs": [],
   "source": []
  }
 ],
 "metadata": {
  "kernelspec": {
   "display_name": "Python 3",
   "language": "python",
   "name": "python3"
  },
  "language_info": {
   "codemirror_mode": {
    "name": "ipython",
    "version": 3
   },
   "file_extension": ".py",
   "mimetype": "text/x-python",
   "name": "python",
   "nbconvert_exporter": "python",
   "pygments_lexer": "ipython3",
   "version": "3.7.0"
  }
 },
 "nbformat": 4,
 "nbformat_minor": 2
}
