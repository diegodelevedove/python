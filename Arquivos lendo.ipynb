{
 "cells": [
  {
   "cell_type": "code",
   "execution_count": 22,
   "metadata": {},
   "outputs": [
    {
     "name": "stdout",
     "output_type": "stream",
     "text": [
      "dataSetAnimais.csv\n",
      "exejoin.xlsx\n",
      "exejoin01.csv\n",
      "exejoin02.csv\n",
      "exejoin03.csv\n",
      "exemploDados.pbix\n",
      "forest-fires-data-set.zip\n",
      "forestfires.csv\n",
      "instalandocaptadoremg.pdf\n",
      "plainText\n",
      "predi.xlsx\n",
      "train - Copia.csv\n",
      "train.csv\n",
      "traincsv.zip\n",
      "transformacaoteste.ktr\n",
      "xml\n"
     ]
    }
   ],
   "source": [
    "#Lendo Arquivos na Pasta\n",
    "\n",
    "import os\n",
    "import sys\n",
    "import pandas as pd\n",
    "import numpy as np\n",
    "\n",
    "#lendo o conteúdo da pasta\n",
    "folder = os.listdir('C:/Users/Diego/Desktop/pythonRead/')\n",
    "for listFolder in folder:\n",
    "    print(listFolder)\n",
    "\n",
    "      \n",
    "    \n",
    "   "
   ]
  },
  {
   "cell_type": "code",
   "execution_count": 216,
   "metadata": {},
   "outputs": [
    {
     "name": "stdout",
     "output_type": "stream",
     "text": [
      "\n",
      "('C:/Users/Diego/Desktop/pythonRead/', ['plainText', 'xml'], ['dataSetAnimais.csv', 'exejoin.xlsx', 'exejoin01.csv', 'exejoin02.csv', 'exejoin03.csv', 'exemploDados.pbix', 'forest-fires-data-set.zip', 'forestfires.csv', 'instalandocaptadoremg.pdf', 'predi.xlsx', 'train - Copia.csv', 'train.csv', 'traincsv.zip', 'transformacaoteste.ktr'])\n",
      "\n",
      "('C:/Users/Diego/Desktop/pythonRead/plainText', [], ['plaintext.txt'])\n",
      "\n",
      "('C:/Users/Diego/Desktop/pythonRead/xml', [], ['docxml.xml', 'docxml2.xml'])\n"
     ]
    }
   ],
   "source": [
    "#Mostrando Conteúdo Recursivo\n",
    "\n",
    "import os\n",
    "import sys\n",
    "from os import walk\n",
    "       \n",
    "folder = walk('C:/Users/Diego/Desktop/pythonRead/')\n",
    "for x in folder:\n",
    "    print('\\n'+ str(x))\n",
    "\n",
    "\n",
    "       \n",
    "    \n",
    "    \n",
    "\n",
    "   \n",
    "        \n",
    "\n",
    "      \n",
    "   \n",
    "        \n",
    "        \n",
    "    \n",
    "    \n",
    " \n",
    "\n",
    "    \n",
    "    \n",
    "    "
   ]
  },
  {
   "cell_type": "code",
   "execution_count": 195,
   "metadata": {},
   "outputs": [
    {
     "name": "stdout",
     "output_type": "stream",
     "text": [
      "1\n",
      "1\n",
      "1\n",
      "1\n"
     ]
    }
   ],
   "source": [
    "lista = ['a','a','b','c']\n",
    "for x in lista:\n",
    "    print(x.count(x))\n",
    "   \n",
    "    "
   ]
  },
  {
   "cell_type": "code",
   "execution_count": 14,
   "metadata": {},
   "outputs": [
    {
     "name": "stdout",
     "output_type": "stream",
     "text": [
      "ï»¿<?xml version=\"1.0\" encoding=\"UTF-8\"?>\n",
      "<resultset statement=\"YOUR SQL STATEMENTS TO GENERATE THIS XML FILE\" xmlns:xsi=\"http://www.w3.org/2001/XMLSchema-instance\">\n",
      "  <row>\n",
      "    <field name=\"personal_number\">539</field>\n",
      "    <field name=\"firstname\">Name</field>\n",
      "    <field name=\"lastname\">Surname</field>\n",
      "    <field name=\"email\">email.domain.com</field>\n",
      "    <field name=\"start_time\">2011-04-02</field>\n",
      "    <field name=\"employee_category\">1,2,4,5,22,37,38,39,41,43,44</field>\n",
      "  </row>\n",
      " \n"
     ]
    }
   ],
   "source": [
    "#Lendo Conteúdo Arquivo - .txt .csv .xml .json .pdf* Apenas Texto\n",
    "\n",
    "import os\n",
    "import sys\n",
    "\n",
    "file = open('C:/Users/Diego/Desktop/ETL para banco/dados.xml').read()\n",
    "print(file)\n",
    "\n"
   ]
  },
  {
   "cell_type": "code",
   "execution_count": 17,
   "metadata": {},
   "outputs": [
    {
     "name": "stdout",
     "output_type": "stream",
     "text": [
      "C:/Users/Diego/Desktop/ETL para banco\\dados.xml\n",
      "C:/Users/Diego/Desktop/ETL para banco\\dados2.xml\n"
     ]
    }
   ],
   "source": [
    "#lendo Arquivos delimitando por extensão, mas não é recursivo\n",
    "\n",
    "import os\n",
    "import sys\n",
    "import glob\n",
    "\n",
    "folder = glob.glob('C:/Users/Diego/Desktop/ETL para banco/*.xml')\n",
    "for listando in folder:\n",
    "    print(listando)\n"
   ]
  },
  {
   "cell_type": "code",
   "execution_count": 36,
   "metadata": {},
   "outputs": [
    {
     "name": "stdout",
     "output_type": "stream",
     "text": [
      "C:/Users/Diego/Desktop/ETL para banco\n",
      "['Pasta 01', 'Pasta 01 - Copia']\n",
      "['dados.xml', 'dados2 - Copia.txt', 'dados2.txt', 'dados2.xml', 'Uso de Banco de Dados.pdf']\n",
      "\n",
      "\n",
      "\t\n",
      "('C:/Users/Diego/Desktop/ETL para banco', ['Pasta 01', 'Pasta 01 - Copia'], ['dados.xml', 'dados2 - Copia.txt', 'dados2.txt', 'dados2.xml', 'Uso de Banco de Dados.pdf'])\n",
      "C:/Users/Diego/Desktop/ETL para banco\\Pasta 01\n",
      "[]\n",
      "['dados2.xml']\n",
      "\n",
      "\n",
      "\t\n",
      "('C:/Users/Diego/Desktop/ETL para banco\\\\Pasta 01', [], ['dados2.xml'])\n",
      "C:/Users/Diego/Desktop/ETL para banco\\Pasta 01 - Copia\n",
      "[]\n",
      "['dados2.xml']\n",
      "\n",
      "\n",
      "\t\n",
      "('C:/Users/Diego/Desktop/ETL para banco\\\\Pasta 01 - Copia', [], ['dados2.xml'])\n"
     ]
    }
   ],
   "source": [
    "#Lendo Pastas e Arquivos internos e caminhos - Recursivamente \n",
    "\n",
    "import os\n",
    "import sys\n",
    "from os import walk\n",
    "\n",
    "path = 'C:/Users/Diego/Desktop/ETL para banco'\n",
    "for(fileAndDirNames) in walk(path):\n",
    "    print(fileAndDirNames[0])#Conteúdo da pasta Root\n",
    "    print(fileAndDirNames[1])#Conteúdo da primeira pasta depois da root\n",
    "    print(fileAndDirNames[2])#Conteúdo da Segunda pasta depois da primeira depois da root\n",
    "    print('\\n')\n",
    "    print('\\t')\n",
    "    print(fileAndDirNames)\n",
    "    \n",
    "    \n"
   ]
  },
  {
   "cell_type": "code",
   "execution_count": 76,
   "metadata": {},
   "outputs": [
    {
     "name": "stdout",
     "output_type": "stream",
     "text": [
      "('C:/Users/Diego/Desktop/pythonRead/', ['xml'], ['plaintext.txt'])\n",
      "('C:/Users/Diego/Desktop/pythonRead/xml', [], ['docxml.xml', 'docxml2.xml'])\n"
     ]
    }
   ],
   "source": [
    "#Lendo contéudo Recursivamente \n",
    "#C:\\Users\\Diego\\Desktop\\pythonRead\n",
    "import os\n",
    "import sys\n",
    "import glob\n",
    "from os import walk\n",
    "\n",
    "path = 'C:/Users/Diego/Desktop/pythonRead/'\n",
    "for (listando) in walk(path):\n",
    "       print(listando)\n",
    "        \n",
    "\n",
    "        \n",
    "\n",
    "\n"
   ]
  },
  {
   "cell_type": "code",
   "execution_count": null,
   "metadata": {},
   "outputs": [],
   "source": []
  }
 ],
 "metadata": {
  "kernelspec": {
   "display_name": "Python 3",
   "language": "python",
   "name": "python3"
  },
  "language_info": {
   "codemirror_mode": {
    "name": "ipython",
    "version": 3
   },
   "file_extension": ".py",
   "mimetype": "text/x-python",
   "name": "python",
   "nbconvert_exporter": "python",
   "pygments_lexer": "ipython3",
   "version": "3.7.1"
  }
 },
 "nbformat": 4,
 "nbformat_minor": 2
}
