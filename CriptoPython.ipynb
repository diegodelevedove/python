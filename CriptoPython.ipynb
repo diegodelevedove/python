{
 "cells": [
  {
   "cell_type": "code",
   "execution_count": 2,
   "metadata": {},
   "outputs": [],
   "source": [
    "#Executar antes\n",
    "import os\n",
    "import sys\n",
    "from cryptography.fernet import Fernet\n",
    "from os import walk"
   ]
  },
  {
   "cell_type": "code",
   "execution_count": 10,
   "metadata": {},
   "outputs": [
    {
     "name": "stdout",
     "output_type": "stream",
     "text": [
      "Encryptar Mensagens\n",
      "b'gAAAAABdH4WO9Ak3f0KpSR7oSqOM-WfKURmL_7Mkd7H-X0FC9DL_Q0U-Fh6TGqvYFs7b5zg16Fqju-jhMEpnZJiZrCbiJjO7fGTgfwAX9BLhbzSBQ0gXBxQ='\n"
     ]
    }
   ],
   "source": [
    "#Toda vez que mandar rodar ele gera uma nova chave - Fique Atento\n",
    "#source - https://cryptography.io/en/latest/fernet/\n",
    "\n",
    "\n",
    "key = Fernet.generate_key()\n",
    "f = Fernet(key)\n",
    "#print(f) - objeto\n",
    "print(\"Encryptar Mensagens\")\n",
    "token = f.encrypt(b\"Essa Mensagem sera encrytada\")\n",
    "print(token)\n",
    "\n",
    "#Abrindo o Encrypt\n",
    "#f.decrypt(token)\n",
    "#print(token)"
   ]
  },
  {
   "cell_type": "code",
   "execution_count": 5,
   "metadata": {},
   "outputs": [
    {
     "name": "stdout",
     "output_type": "stream",
     "text": [
      "Digite uma Mensagem Para Crytografar: \n",
      "Diego\n",
      "b'gAAAAABdH56OHcclVfiEqX9GzZOXtJg_3UZeMRixvYU8aFX3CuQWRhediKkVpfT_Ul-8AKbt2bqWpCw5m3deE334Arhcwc6HVQ=='\n",
      "Descrytar: \n",
      "b'Diego'\n"
     ]
    }
   ],
   "source": [
    "#Encriptar uma entrada\n",
    "\n",
    "key = Fernet.generate_key()\n",
    "f = Fernet(key)\n",
    "print(\"Digite uma Mensagem Para Crytografar: \")\n",
    "input_msg = input()\n",
    "token = f.encrypt(bytes(input_msg , encoding = 'utf-8')) #tem que fazer um parse string->bytes\n",
    "print(token)\n",
    "descri = f.decrypt(token)\n",
    "print(\"Descrytar: \")\n",
    "print(descri)\n"
   ]
  },
  {
   "cell_type": "code",
   "execution_count": 94,
   "metadata": {},
   "outputs": [
    {
     "name": "stdout",
     "output_type": "stream",
     "text": [
      "b'C:/Users/Adm/Desktop/Criptor/' [b'input'] [b'25-02-2019 05-42_Arquivo-morto do Outlook para Mac.olm-Contatos Sugeridos.pst', b'Documento - Extratos TESTE.pdf']\n",
      "b'C:/Users/Adm/Desktop/Criptor/' b'gAAAAABcpOksJzG1JMkYGcbWtvWW1aDwdRg2ZgqcZNF-HZ9VeXDjoY6PCj_G0ObW6334erfbxUzBvkhaYveEVb25AzuL6HBNuw=='\n",
      "b'C:/Users/Adm/Desktop/Criptor/input' [] [b'Documento - Extratos TESTE.pdf']\n",
      "b'C:/Users/Adm/Desktop/Criptor/input' b'gAAAAABcpOksJzG1JMkYGcbWtvWW1aDwdRg2ZgqcZNF-HZ9VeXDjoY6PCj_G0ObW6334erfbxUzBvkhaYveEVb25AzuL6HBNuw=='\n"
     ]
    }
   ],
   "source": [
    "#Desse jeito ele encryta apenas o caminho dos arquivos e não o arquivo\n",
    "caminho = (b\"C:/Users/Adm/Desktop/Criptor/\")\n",
    "for (path,folder,files) in walk(caminho):\n",
    "    f.encrypt(path)\n",
    "    print(path,folder,files)\n",
    "    print(path,token)\n"
   ]
  },
  {
   "cell_type": "code",
   "execution_count": 11,
   "metadata": {},
   "outputs": [
    {
     "name": "stdout",
     "output_type": "stream",
     "text": [
      "<cryptography.fernet.Fernet object at 0x0000016E34A8F860>\n",
      "b'gAAAAABdH4W1cnFAq9MkGZLr-gdLOtZvKZ4cTabbcpVYZV_ZeGasg3HO81Elxhx5-FlqLNcAlmGQJA_MlA7I684KDxVWEXHutTK_enHQl4Sx6fhTPE5SqWg='\n",
      "<built-in method hex of bytes object at 0x0000016E34A8DC60>\n",
      "<bound method Fernet.extract_timestamp of <cryptography.fernet.Fernet object at 0x0000016E34A8FC18>>\n",
      "<built-in method index of bytes object at 0x0000016E34A8DC60>\n"
     ]
    }
   ],
   "source": [
    "key = Fernet.generate_key()\n",
    "chave = Fernet(key)\n",
    "print(f)\n",
    "token = f.encrypt(b\"20190816CarlaFabiola\")\n",
    "print(token)\n",
    "print(key.hex)\n",
    "print(chave.extract_timestamp)\n",
    "print(key.index)"
   ]
  },
  {
   "cell_type": "code",
   "execution_count": null,
   "metadata": {},
   "outputs": [],
   "source": [
    "\n",
    "\n",
    "\n",
    "\n",
    "\n"
   ]
  }
 ],
 "metadata": {
  "kernelspec": {
   "display_name": "Python 3",
   "language": "python",
   "name": "python3"
  },
  "language_info": {
   "codemirror_mode": {
    "name": "ipython",
    "version": 3
   },
   "file_extension": ".py",
   "mimetype": "text/x-python",
   "name": "python",
   "nbconvert_exporter": "python",
   "pygments_lexer": "ipython3",
   "version": "3.7.1"
  }
 },
 "nbformat": 4,
 "nbformat_minor": 2
}
