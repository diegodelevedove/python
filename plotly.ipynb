{
 "cells": [
  {
   "cell_type": "code",
   "execution_count": 24,
   "metadata": {},
   "outputs": [
    {
     "data": {
      "text/html": [
       "        <script type=\"text/javascript\">\n",
       "        window.PlotlyConfig = {MathJaxConfig: 'local'};\n",
       "        if (window.MathJax) {MathJax.Hub.Config({SVG: {font: \"STIX-Web\"}});}\n",
       "        if (typeof require !== 'undefined') {\n",
       "        require.undef(\"plotly\");\n",
       "        requirejs.config({\n",
       "            paths: {\n",
       "                'plotly': ['https://cdn.plot.ly/plotly-latest.min']\n",
       "            }\n",
       "        });\n",
       "        require(['plotly'], function(Plotly) {\n",
       "            window._Plotly = Plotly;\n",
       "        });\n",
       "        }\n",
       "        </script>\n",
       "        "
      ]
     },
     "metadata": {},
     "output_type": "display_data"
    },
    {
     "name": "stdout",
     "output_type": "stream",
     "text": [
      "       Alfa      Beta\n",
      "A -1.525928  1.294189\n",
      "B  1.423463 -0.176033\n"
     ]
    },
    {
     "data": {
      "application/vnd.plotly.v1+json": {
       "config": {
        "linkText": "Export to plot.ly",
        "plotlyServerURL": "https://plot.ly",
        "responsive": true,
        "showLink": false
       },
       "data": [
        {
         "mode": "markers",
         "type": "scatter",
         "uid": "2675cbec-cf94-456f-abed-7fa987fab7fe",
         "x": [
          -1.525927960731587,
          1.4234626470300835
         ],
         "y": [
          1.2941888268410755,
          -0.17603282507867643
         ]
        }
       ],
       "layout": {}
      },
      "text/html": [
       "<div>\n",
       "        \n",
       "        \n",
       "            <div id=\"cf5f9d9a-3982-4b88-a94a-0d75a3700936\" class=\"plotly-graph-div\"></div>\n",
       "            <script type=\"text/javascript\">\n",
       "                require([\"plotly\"], function(Plotly) {\n",
       "                    window.PLOTLYENV=window.PLOTLYENV || {};\n",
       "                    window.PLOTLYENV.BASE_URL='https://plot.ly';\n",
       "                    \n",
       "                if (document.getElementById(\"cf5f9d9a-3982-4b88-a94a-0d75a3700936\")) {\n",
       "                    Plotly.newPlot(\n",
       "                        'cf5f9d9a-3982-4b88-a94a-0d75a3700936',\n",
       "                        [{\"mode\": \"markers\", \"type\": \"scatter\", \"uid\": \"5fe6af5c-a84e-4da9-8f5a-fe1959f3b802\", \"x\": [-1.525927960731587, 1.4234626470300835], \"y\": [1.2941888268410755, -0.17603282507867643]}],\n",
       "                        {},\n",
       "                        {\"showLink\": false, \"linkText\": \"Export to plot.ly\", \"plotlyServerURL\": \"https://plot.ly\", \"responsive\": true}\n",
       "                    )\n",
       "                };\n",
       "                });\n",
       "            </script>\n",
       "        </div>"
      ]
     },
     "metadata": {},
     "output_type": "display_data"
    },
    {
     "name": "stdout",
     "output_type": "stream",
     "text": [
      "[Scatter({\n",
      "    'mode': 'markers', 'x': array([-1.52592796,  1.42346265]), 'y': array([ 1.29418883, -0.17603283])\n",
      "})]\n"
     ]
    }
   ],
   "source": [
    "#https://paulovasconcellos.com.br/como-criar-gr%C3%A1ficos-interativos-utilizando-plotly-e-python-3eb6eda57a2b\n",
    "#https://plot.ly/python/offline/\n",
    "#USando plotly offline\n",
    "import pandas as pd\n",
    "import plotly.offline as py\n",
    "import plotly.graph_objs as go\n",
    "import numpy as np\n",
    "py.init_notebook_mode(connected=True)\n",
    "\n",
    "df = pd.DataFrame(np.random.randn(2,2), index = 'A B'.split(),columns = 'Alfa Beta'.split())\n",
    "print(df)\n",
    "\n",
    "trace = go.Scatter(x = df['Alfa'],y = df['Beta'],mode = 'markers')\n",
    "data = [trace]\n",
    "py.iplot(data)\n",
    "print(data)\n",
    "\n"
   ]
  }
 ],
 "metadata": {
  "kernelspec": {
   "display_name": "Python 3",
   "language": "python",
   "name": "python3"
  },
  "language_info": {
   "codemirror_mode": {
    "name": "ipython",
    "version": 3
   },
   "file_extension": ".py",
   "mimetype": "text/x-python",
   "name": "python",
   "nbconvert_exporter": "python",
   "pygments_lexer": "ipython3",
   "version": "3.7.1"
  }
 },
 "nbformat": 4,
 "nbformat_minor": 2
}
