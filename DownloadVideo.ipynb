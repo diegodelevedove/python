{
 "cells": [
  {
   "cell_type": "code",
   "execution_count": 10,
   "metadata": {},
   "outputs": [],
   "source": [
    "#Baixar Arquivos em url com Python\n",
    "#https://urllib3.readthedocs.io/en/latest/index.html\n",
    "#https://2.python-requests.org/en/master/\n",
    "\n",
    "import sys\n",
    "import os\n",
    "import urllib.request\n",
    "import wget\n",
    "import requests\n",
    "import urllib3\n",
    "from urllib3 import PoolManager\n",
    "from pytube import YouTube\n",
    "import time\n",
    "import progressbar\n"
   ]
  },
  {
   "cell_type": "code",
   "execution_count": null,
   "metadata": {},
   "outputs": [],
   "source": [
    "#video exemplo: https://www.youtube.com/watch?v=6kqTcLwUYj8&t=3007s\n",
    "#http = PoolManager()\n",
    "#http.request('GET','https://www.youtube.com/watch?v=6kqTcLwUYj8&t=3007s',headers={'Accept-Encoding': 'br'})\n",
    "\n",
    "print('Donwload de Arquivos - Cole uma URL')\n",
    "\n",
    "\n",
    "input_url = input()\n",
    "\n",
    "http = urllib3.PoolManager(num_pools=50) #limite de urls \n",
    "r = requests.get(input_url, verify = False)\n",
    "r = http.request('GET',input_url,headers = {'Accept-Enconding':'br'})\n",
    "\n",
    "with open('C:/Users/Diego/Desktop/arquivo.extensão', 'wb') as f:  \n",
    "    f.write(r.content)\n",
    "\n",
    "# Retrieve HTTP meta-data\n",
    "print(r.status_code)  \n",
    "print(r.data)\n",
    "print(r.headers['content-type'])  \n",
    "print(r.encoding)  \n"
   ]
  },
  {
   "cell_type": "code",
   "execution_count": null,
   "metadata": {},
   "outputs": [],
   "source": [
    "#baixando videos\n",
    "#https://www.youtube.com/watch?v=vUZQY7Nqr0U\n",
    "print('Donwload de Videos Youtube - Cole uma URL')\n",
    "\n",
    "yt = YouTube(\"https://www.youtube.com/watch?v=vUZQY7Nqr0U\").streams.first()\n",
    "yt.download('C:/Users/Diego/Desktop/TesteDown')\n",
    "#for yt in progressbar.progressbar(range(100)):\n",
    "    #time.sleep(0.2)\n",
    "\n"
   ]
  },
  {
   "cell_type": "code",
   "execution_count": 20,
   "metadata": {},
   "outputs": [
    {
     "name": "stdout",
     "output_type": "stream",
     "text": [
      "Caminho da Pasta Destino\n"
     ]
    },
    {
     "ename": "NameError",
     "evalue": "name 'download' is not defined",
     "output_type": "error",
     "traceback": [
      "\u001b[1;31m---------------------------------------------------------------------------\u001b[0m",
      "\u001b[1;31mNameError\u001b[0m                                 Traceback (most recent call last)",
      "\u001b[1;32m<ipython-input-20-857d46fc00cf>\u001b[0m in \u001b[0;36m<module>\u001b[1;34m\u001b[0m\n\u001b[0;32m      1\u001b[0m \u001b[0mprint\u001b[0m\u001b[1;33m(\u001b[0m\u001b[1;34m\"Caminho da Pasta Destino\"\u001b[0m\u001b[1;33m)\u001b[0m\u001b[1;33m\u001b[0m\u001b[1;33m\u001b[0m\u001b[0m\n\u001b[1;32m----> 2\u001b[1;33m \u001b[0mpasta_destino\u001b[0m \u001b[1;33m=\u001b[0m \u001b[0mdownload\u001b[0m\u001b[1;33m(\u001b[0m\u001b[0minput\u001b[0m\u001b[1;33m(\u001b[0m\u001b[1;33m)\u001b[0m\u001b[1;33m)\u001b[0m\u001b[1;33m\u001b[0m\u001b[1;33m\u001b[0m\u001b[0m\n\u001b[0m\u001b[0;32m      3\u001b[0m \u001b[0mprint\u001b[0m\u001b[1;33m(\u001b[0m\u001b[1;34m\"Inserir URL\"\u001b[0m\u001b[1;33m)\u001b[0m\u001b[1;33m\u001b[0m\u001b[1;33m\u001b[0m\u001b[0m\n\u001b[0;32m      4\u001b[0m \u001b[0minput_string\u001b[0m \u001b[1;33m=\u001b[0m \u001b[0mYouTube\u001b[0m\u001b[1;33m(\u001b[0m\u001b[0minput\u001b[0m\u001b[1;33m(\u001b[0m\u001b[1;33m)\u001b[0m\u001b[1;33m)\u001b[0m\u001b[1;33m.\u001b[0m\u001b[0mstreams\u001b[0m\u001b[1;33m.\u001b[0m\u001b[0mfirst\u001b[0m\u001b[1;33m(\u001b[0m\u001b[1;33m)\u001b[0m\u001b[1;33m\u001b[0m\u001b[1;33m\u001b[0m\u001b[0m\n\u001b[0;32m      5\u001b[0m \u001b[0minput_string\u001b[0m\u001b[1;33m.\u001b[0m\u001b[0mdownload\u001b[0m\u001b[1;33m(\u001b[0m\u001b[0mpasta_destino\u001b[0m\u001b[1;33m)\u001b[0m\u001b[1;33m\u001b[0m\u001b[1;33m\u001b[0m\u001b[0m\n",
      "\u001b[1;31mNameError\u001b[0m: name 'download' is not defined"
     ]
    }
   ],
   "source": [
    "print(\"Caminho da Pasta Destino\")\n",
    "pasta_destino = download(input())\n",
    "print(\"Inserir URL\")\n",
    "input_string = YouTube(input()).streams.first()\n",
    "input_string.download(pasta_destino)\n"
   ]
  },
  {
   "cell_type": "code",
   "execution_count": null,
   "metadata": {},
   "outputs": [],
   "source": [
    "\n",
    "    \n",
    "    "
   ]
  }
 ],
 "metadata": {
  "kernelspec": {
   "display_name": "Python 3",
   "language": "python",
   "name": "python3"
  },
  "language_info": {
   "codemirror_mode": {
    "name": "ipython",
    "version": 3
   },
   "file_extension": ".py",
   "mimetype": "text/x-python",
   "name": "python",
   "nbconvert_exporter": "python",
   "pygments_lexer": "ipython3",
   "version": "3.7.1"
  }
 },
 "nbformat": 4,
 "nbformat_minor": 2
}
