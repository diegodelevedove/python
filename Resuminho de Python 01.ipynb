{
 "cells": [
  {
   "cell_type": "code",
   "execution_count": 2,
   "metadata": {},
   "outputs": [
    {
     "ename": "SyntaxError",
     "evalue": "invalid syntax (<ipython-input-2-25cc28d15eaa>, line 23)",
     "output_type": "error",
     "traceback": [
      "\u001b[1;36m  File \u001b[1;32m\"<ipython-input-2-25cc28d15eaa>\"\u001b[1;36m, line \u001b[1;32m23\u001b[0m\n\u001b[1;33m    Tipos + atribuição de variaveis\u001b[0m\n\u001b[1;37m                        ^\u001b[0m\n\u001b[1;31mSyntaxError\u001b[0m\u001b[1;31m:\u001b[0m invalid syntax\n"
     ]
    }
   ],
   "source": [
    "#Resuminho de Python\n",
    "#Comentarios - uma linha\n",
    "#space + enter executa o código da célula\n",
    "#tab = sugestão de comando\n",
    "#shift + tab = sugestão de definição de comando\n",
    "\"\"\"\n",
    "Bloco de commments\n",
    "\n",
    "\n",
    "\"\"\"\n",
    "\"\"\"\n",
    "Operadopres comparação\n",
    "Símbolo\tDefinição\n",
    "==\tIgual\n",
    "!=\tDiferente\n",
    ">\tMaior que\n",
    "<\tMenor que\n",
    ">=\tMaior ou igual que\n",
    "<=\tMenor ou igual que\n",
    "\n",
    "\"\"\"\n",
    "\n",
    "Tipos + atribuição de variaveis\n",
    "a = \"String\" # ou 'string'\n",
    "b = 5.5\n",
    "c = 500\n",
    "aa = \"anal\"\n",
    "print(a[::-1]) # Lendo a string de traz pra frente -1 ou -10 ...\n",
    "len(a)#tamanho da string\n",
    "#intervalo de string ou subsection da string e indexing\n",
    "aaa = \"coroagostosa\"\n",
    "aaa[:5]# esquerda pra direita\n",
    "aaa[5:]# direita pra esquerda\n",
    "aaa[1:6] #intervalo\n",
    "aaa[::2] #pulando duas em duas\n",
    "a * 2 # StringString\n",
    "\n",
    "#Tipos de Dados\n",
    "lista = [\"Palavra\",10,15.2,\"a\"] # não altera ordem\n",
    "lista2 = [10.5,\"dinamite\",666]\n",
    "#indexando\n",
    "lista[2]\n",
    "#intervalando\n",
    "lista[1:2]\n",
    "lista[2:]# do 2 index pra frente\n",
    "#contatenando\n",
    "lista+lista2\n",
    "#substituindo um elemento\n",
    "lista[3] = \"xola\"\n",
    "#adicionando\n",
    "lista.append(\"xollla\")\n",
    "lista\n",
    "#deletando um item\n",
    "lista.pop(0) #se não passar nada ele remove o utlimo\n",
    "lista\n",
    "#Ordenando uma lista desordenada \n",
    "lista3 = ['a','c','e','b','d']\n",
    "lista3.sort()\n",
    "lista3\n",
    "#reverso\n",
    "lista3.reverse()\n",
    "lista3\n",
    "#dicionário chave: valor(objetos)\n",
    "objeto = {\"Nome\":\"Fulano\",\"Idade\":15} \n",
    "#pega os objetos pelo nome\n",
    "objeto[\"Nome\"]#retorna um valor\n",
    "#mais de ummtipo de dado em um objeto\n",
    "objeto2 = {\"Nome\":\"Ademar\",\"Idade\":35,\"Numeros\":[10,15,20],'Classificado':{\"operario\":250}}\n",
    "#pegando um iten da lista dentro da lista\n",
    "objeto2[\"Numeros\"][1]\n",
    "#pégando o objeto inteiro\n",
    "objeto2.keys()\n",
    "#pegando só os valores\n",
    "objeto2.values()\n",
    "#pegando os items\n",
    "objeto2.items()\n",
    "type(objeto2.items())\n",
    "#tuplas - não é mutável não dá pra adcionar elementos aqui só tem função index e count\n",
    "t = (12,13,14)\n",
    "t[0]\n",
    "#ou de trás pra frente\n",
    "t[-1]\n",
    "\n",
    "#Conjuntos - não aceita indice,e valores únicos\n",
    "conj = {1,2,3}\n",
    "#adcionando\n",
    "conj.add(4)\n",
    "#limpando\n",
    "conj.clear()\n",
    "#atribuindo \n",
    "conj2 = set()\n",
    "conj2.add(\"alfa\")\n",
    "conj2\n",
    "#passando como parametro vemos que ela não repete\n",
    "set('Mississippi')\n",
    "#{'M', 'i', 'p', 's'}\n",
    "\n",
    "#Boleanos verdade ou false\n",
    "1 > 2 #false\n",
    "2 < 1 #true\n",
    "\n",
    "#Criando arquivos TXT\n",
    "#não pode ter comentário antes\n",
    "%%writefile meufile.txt\n",
    "trosoba\n",
    "precheca\n",
    "piriquita\n",
    "toba\n",
    "#Verifique na mesma pasta de arquivos dos arquivos do jupiter\n",
    "#lendo o arquivo\n",
    "ler = ('c:/caminho')\n",
    "ler.read()\n",
    "#ou use no caminho ler = ('r,c:/caminho')\n",
    "#zerando o cursor - dessa forma ele limpa a memoria\n",
    "ler.seek(0)\n",
    "#lendo linha a linha quebrando \n",
    "ler.readlines()\n",
    "#pwd em uma célula mostra o caminho onde o jupiter salva os arquivos\n",
    "ler.close()\n",
    "#se você estiver editando o arquivo abra dessa maneira\n",
    "#Editando o arquivo em tempo real, do outro modo ele vai pedir sempre pra fechar pra salvar\n",
    "#veja os mode = a mode= w mode = r\n",
    "with open('arquivo.txt') as meu_arquivo:\n",
    "    lendoArquivo = meu_arquivo.read()\n",
    "lendoArquivo\n",
    "\n",
    "tuplas = (10, \"Menina\",\"Estudante\",1.70,\"Altura\") #altera ordem\n",
    "conjunto = {\"a\",\"B\",\"C\"} \n",
    "\n",
    "#Printanto os tipos\n",
    "print(\"Tipos de dados a,b,c\")\n",
    "print(a +' '+str(b)+' '+str(c)) #Casting de qualquer tipo para string - str(c) float(),int() e por ai vai\n",
    "print(type(a),type(b),type(c)) #reotrnando os tipo\n",
    "#Igualdade entre variáveis + função + if condicional\n",
    "#função é um bloco de código apenas que pode ser chamado pelo nome \n",
    "#def nomedafunção(parâmetros): algum código\n",
    "\n",
    "#comparadores lógicos\n",
    "#= atribuição\n",
    "# == igual true ou false\n",
    "#> maior \n",
    "#< menor\n",
    "#>= maior igual\n",
    "# <= menor igual\n",
    "# != diferente\n",
    "# ! não lógico\n",
    "# and, no java é && \n",
    "# or no java é ||\n",
    "\n",
    "\n",
    "#while loops\n",
    "#while enquanto for verdadeiro ele vai executando\n",
    "#diferente do for que precisa de condições pra interar\n",
    "#o while enquanto aqui for verdadeiro ele segue\n",
    "xx = 0\n",
    "while xx < 5:\n",
    "    print(f'valor de 5 é{xx}')\n",
    "    x+=1#não para\n",
    "    break\n",
    "    #se não parar ele vai embora\n",
    "x = 0# aqui para porque a condição vai mudando na de cima ele faz o print primeiro e zera a var\n",
    "while x < 5:\n",
    "    x+=1\n",
    "    print(f\"Mensagem{x}\")    \n",
    "#operadores uteis\n",
    "# varrer uma string dentro de um indice\n",
    "palavra = \"Abacate\"\n",
    "for x in enumerate(palavra):\n",
    "    print(x)\n",
    "#juntando dois tipos de dados\n",
    "umlista = [1,2,3]\n",
    "doislista = ['a','b','c']\n",
    "for x in zip(umlista,doislista):\n",
    "    print(x)\n",
    "#retorna as duas listas em forma de tuplas\n",
    "#retornando um boleando se existir na string\n",
    "x = ['uhdpuhçlasjh\\çdskljahdçkjahd']\n",
    "'x' in x\n",
    "#retorna falso\n",
    "#ou\n",
    "'a' in 'america'\n",
    "#retorna true\n",
    "xiba = {'mchave':345}\n",
    "345 in xiba.values()#True\n",
    "345 in xiba.keys()#false\n",
    "#min and max\n",
    "mini = [10,20,30,40]\n",
    "min(mini)\n",
    "max(mini)\n",
    "#misturando\n",
    "from random import shuffle\n",
    "shuffle(mini)\n",
    "mini\n",
    "#randomico na lista\n",
    "from random import randint\n",
    "randint(0,100)\n",
    "#retorna um número aleatório ai dentro\n",
    "#Entrada de dados\n",
    "input(\"Digite seu nome\")\n",
    "#sempre recebe como string\n",
    "\n",
    "#Mais sobre listas\n",
    "myliste = []\n",
    "mystr = \"blackSabath\"\n",
    "#perceba que no for abaixo listei e não preciseo passar nenhum parametro\n",
    "lista = [(12),(\"alfa\"),(15)]\n",
    "for x in lista:\n",
    "    print(x)\n",
    "for letter in mystr:\n",
    "    myliste.append(letter)\n",
    "#em uma nova célula entre com\n",
    "myliste\n",
    "#['b', 'l', 'a', 'c', 'k', 'S', 'a', 'b', 'a', 't', 'h']\n",
    "#ou\n",
    "myliste = [x for x in 'blacksabath'] #mesmo resultado\n",
    "#laços em variáveis\n",
    "num = 1\n",
    "baba = [num**2 for num in range(0,11)]\n",
    "print(baba)\n",
    "#[0, 1, 4, 9, 16, 25, 36, 49, 64, 81, 100]\n",
    "#ex:\n",
    "celcius = [10,15,12,35.5]\n",
    "farenhait = [((9/5)*temp + 32) for temp in celcius ]\n",
    "farenhait #frisando que ele consegue dividir sem muitos problemas cada elemento da lista\n",
    "\n",
    "mylista = []\n",
    "for x in [2,4,6]:\n",
    "    for y in [100,200,300]:\n",
    "        mylista.append(x*y) #ficilita porque não precisa fazer muitos laços\n",
    "mylista        \n",
    "#[200,400,600,400,...]\n",
    "\n",
    "def comparando():\n",
    "    if a == b: # Perceba o fechamento do if:\n",
    "        print('valor de a e tipo a com valor de b com tipo de b são iguais')\n",
    "    else: #Perceba que o else fica na mesma posição do if\n",
    "        print('Valor do tipo a comparado ao tipo b são diferentes')\n",
    "#chamando a função\n",
    "comparando()\n",
    "\n",
    "print(\"================================\")\n",
    "# Trabalhando com strings + algumas funções nativas(split(),upper(),strip(),replace()...)\n",
    "\n",
    "nome = \"Diego\"\n",
    "print(nome[0]+nome[1]+nome[2]+nome[3]+nome[4])\n",
    "print(nome[1:2],nome[0:4])#Pegando do 1 ao 2 = 1\n",
    "#[] -> signigica vetorização(array = matriz ou seja uma posição corresponde a uma valor)\n",
    "\n",
    "print(\"================================\")\n",
    "\n",
    "#Saidas formatadas\n",
    "\n",
    "print(\"Adicionar dentro das {}\".format(\"Dentro do colchete\"))\n",
    "print('The {} {} {}'.format('fox','brown','quick'))\n",
    "#dá pra ordenar tambem\n",
    "print('The {2} {0} {1}'.format('fox','brown','quick'))\n",
    "#usando keyswords \n",
    "print('The {f} {q} {b}'.format(fox='f',brown='b',quick='q'))\n",
    "#formatação de números\n",
    "#Tentei pegar da variável mas não achou, no caso o r\n",
    "#{r:milhar.centena.dezena}\n",
    "#na versão anterior acho que usava f para float\n",
    "print(\"Duas casas decimais {r:1.3}\".format(r = 0.25121542))\n",
    "#Podemos também usar dessa forma\n",
    "#Colocando o f na frente da string\n",
    "nome = \"diego\"\n",
    "print(f\"olá meu nome é {nome}\")\n",
    "\n",
    "#Removendo espaços em branco\n",
    "sobrenome = \"Delevedove de Oliveira \"\n",
    "print(sobrenome.strip())\n",
    "print(\"comprimento da string : \"+ str(len(sobrenome))) #Comprimento da string - str(len('exemplo'))\n",
    "x= \"Pega na minha e balança\"\n",
    "x.split()\n",
    "#['Pega', 'na', 'minha', 'e', 'balança']\n",
    "#ou\n",
    "x.split('a')\n",
    "#['Peg', ' n', ' minh', ' e b', 'l', 'nç', '']\n",
    "print(\"================================\")\n",
    "\n",
    "#Quando mais de um tipo como valor o python considera tudo como string em um set(conjunto)\n",
    "var = \"a\", 2 , 5.5 , \"Valores\" #Dois tipos em uma variável\n",
    "print(var)\n",
    "\n",
    "print(\"================================\")\n",
    "\n",
    "#Transformando a string para caixa baixa\n",
    "nome2 = 'OLIVEIRA'\n",
    "print(nome2.lower())\n",
    "# Transformando a string para caixa alta\n",
    "print(nome2.upper())\n",
    "# Replace a string\n",
    "print(nome2.replace('O' ,'@'))\n",
    "# split a string usando um separador\n",
    "print(sobrenome.split(\" \")) #colocando virgula nos espaoços\n",
    "\n",
    "#indexando e partindo strings\n",
    "\n",
    "vari = \"ComeOnJackieBoy\"\n",
    "#vari[2] #m\n",
    "\n",
    "#de trás pra frente\n",
    "#vari[-3]\n",
    "\n",
    "#substring\n",
    "\n",
    "#vari[0:4]\n",
    "#vari[10:15]\n",
    "#Pegando tudo\n",
    "#vari[::]\n",
    "#pulando 2 em 2\n",
    "#vari[::2]\n",
    "#pulando variado\n",
    "#vari[2:5:2] \n",
    "\n",
    "#Estrutura de decisão - if else\n",
    "a = 10 \n",
    "b = 20 \n",
    "if a == b:\n",
    "    print(\"Igual\")\n",
    "else:\n",
    "    print(\"Diferente\")\n",
    "if a > b:\n",
    "    print('e ainda é maior')\n",
    "else:\n",
    "    print('e ainda é menor')\n",
    "#True e False tem a primeia letra uuper case cuidado!!!!\n",
    "hungry = False    \n",
    "if hungry:\n",
    "    print('Feed Me')\n",
    "else:\n",
    "    print(\"im not hungry\")\n",
    "#elif ou else if\n",
    "\n",
    "loc = 'bank'\n",
    "if loc == 'Auto Shop':\n",
    "    print(\"Cars are cool\")\n",
    "elif loc == \"bank\":\n",
    "    print('money is cool')\n",
    "else:\n",
    "    print(\"i dont knwo much\")\n",
    "    \n",
    "    "
   ]
  },
  {
   "cell_type": "code",
   "execution_count": 4,
   "metadata": {},
   "outputs": [
    {
     "name": "stdout",
     "output_type": "stream",
     "text": [
      "diego\n",
      "Seu nome é {} Diego\n"
     ]
    },
    {
     "ename": "NameError",
     "evalue": "name 'check' is not defined",
     "output_type": "error",
     "traceback": [
      "\u001b[1;31m---------------------------------------------------------------------------\u001b[0m",
      "\u001b[1;31mNameError\u001b[0m                                 Traceback (most recent call last)",
      "\u001b[1;32m<ipython-input-4-93a5f123b83b>\u001b[0m in \u001b[0;36m<module>\u001b[1;34m\u001b[0m\n\u001b[0;32m     79\u001b[0m     \u001b[1;31m#também pode fazer assim\u001b[0m\u001b[1;33m\u001b[0m\u001b[1;33m\u001b[0m\u001b[1;33m\u001b[0m\u001b[0m\n\u001b[0;32m     80\u001b[0m \u001b[1;33m\u001b[0m\u001b[0m\n\u001b[1;32m---> 81\u001b[1;33m \u001b[0mresult\u001b[0m \u001b[1;33m=\u001b[0m \u001b[0mcheck\u001b[0m\u001b[1;33m\u001b[0m\u001b[1;33m\u001b[0m\u001b[0m\n\u001b[0m",
      "\u001b[1;31mNameError\u001b[0m: name 'check' is not defined"
     ]
    }
   ],
   "source": [
    "#funções -------- IMPORTANTE\n",
    "#sintaxe\n",
    "#def nome_da_funcao():\n",
    "#Escopo de fora pra dentro\n",
    "nome = \"diego\"\n",
    "def printar():\n",
    "    print(nome)\n",
    "printar() \n",
    "#Passando o parâmetro na hora da chamada\n",
    "def printar2(nome):\n",
    "    print(\"Seu nome é {}\",format(nome))\n",
    "printar2(\"Diego\")    \n",
    "#não dá pra passar o parâmetro no método de outra forma\n",
    "#return\n",
    "def adcicao(num1,num2):\n",
    "    result = num1+num2\n",
    "    return(result)\n",
    "adcicao(2,2)    \n",
    "#Retorno default\n",
    "#no caso de não passar nada e querer retonar algo \n",
    "def foo(nome=\"Padrao\"):\n",
    "    return nome+\" parâmetro default não passado\"\n",
    "foo()\n",
    "#implementando no retorno\n",
    "def fee(x,y):\n",
    "    return x + y\n",
    "fee(10,5)\n",
    "#passando novos valores através de uma var\n",
    "#por isso é diferente de print que não recebe nada sobrescrito\n",
    "imprementando = fee(20,3)\n",
    "imprementando\n",
    "\n",
    "#pass = quando queremos que o codigo continue sem retornar nada\n",
    "#outro detalhe é o escopo, é importante entender o escopo de funções laços e condições\n",
    "def checar(num_lista):\n",
    "    for numero in num_lista:\n",
    "        if numero % 2 == 0:\n",
    "            return True\n",
    "        else:\n",
    "            pass\n",
    "        \n",
    "    return False    \n",
    "checar([1,3,5]) \n",
    "checar([2,4,6])\n",
    "def checar(num_lista):\n",
    "    #return all the even numbers\n",
    "    #placehold variables\n",
    "    pares = [] #vai fazer o looping primeiro depois que vai retornar\n",
    "    \n",
    "    for numero in num_lista:\n",
    "        if numero % 2 == 0:\n",
    "            pares.append(numero)\n",
    "            \n",
    "        else:\n",
    "            pass\n",
    "        \n",
    "        return pares\n",
    "        \n",
    "checar([1,2,3,4,5])\n",
    "\n",
    "#desempacotar tuplas\n",
    "workers = [('joana',100),('maria',500),('isabel',900)]\n",
    "#vamos varrer uma lista e comparar quem ganha mais\n",
    "#criamos variaveis que vão receber valores apos a comparação\n",
    "#percebe que no for usamos uma atribuição a mais pra pegar o salario do objeto da tupla\n",
    "def checkworkers(workers):\n",
    "    salario = 0\n",
    "    empregadomes = ''\n",
    "    \n",
    "    for workers,horas in workers:\n",
    "        if horas > salario:\n",
    "            salario = horas\n",
    "            empregadomes = workers\n",
    "        else:\n",
    "            pass\n",
    "    \n",
    "    return (salario,empregadomes)\n",
    "checkworkers(workers)\n",
    "    #também pode fazer assim\n",
    "    \n",
    "result = check    \n"
   ]
  },
  {
   "cell_type": "code",
   "execution_count": null,
   "metadata": {},
   "outputs": [],
   "source": [
    "#Trabalhando com listas\n",
    "#essa parte é muito importante\n",
    "\n",
    "#01\n",
    "mystring = \"olá\"\n",
    "#vou por essa string em lista\n",
    "mystring = []\n",
    "for letras in mystring:\n",
    "    mystring.append[letras]\n",
    "mystring    \n",
    "\n"
   ]
  },
  {
   "cell_type": "code",
   "execution_count": 5,
   "metadata": {},
   "outputs": [
    {
     "ename": "SyntaxError",
     "evalue": "invalid syntax (<ipython-input-5-849d8f18eabc>, line 8)",
     "output_type": "error",
     "traceback": [
      "\u001b[1;36m  File \u001b[1;32m\"<ipython-input-5-849d8f18eabc>\"\u001b[1;36m, line \u001b[1;32m8\u001b[0m\n\u001b[1;33m    def foo(a,b,c=5,d=2)\u001b[0m\n\u001b[1;37m                        ^\u001b[0m\n\u001b[1;31mSyntaxError\u001b[0m\u001b[1;31m:\u001b[0m invalid syntax\n"
     ]
    }
   ],
   "source": [
    "#kwargs e *args\n",
    "#argumentos chave e argumentos infinitos ou star args\n",
    "#vou passa uma função com argumento\n",
    "def foo(a,b):\n",
    "    return sum((a,b))*0,5 \n",
    "foo(10,5)\n",
    "#mas e se quisermos retornar mais valores\n",
    "def foo(a,b,c=5,d=2)\n",
    "#vai retornar todos os argumenstpo\n",
    "def foo(*args):\n",
    "    return sum(args)\n",
    "foo(10,5,2,3)\n",
    "#passo mais de um argumento \n",
    "def myfunc(**kwargs):\n",
    "    #se printar aqui ele mostra o dicionário que é como a função guarda esse argumento\n",
    "    print(kwargs)\n",
    "    if 'fruit in kwargs':\n",
    "        print('My fruint of choice is {}'.format(kwargs['fruits']))\n",
    "    else:\n",
    "        print('i did not find any fruit here')\n",
    "        \n",
    "myfunc(fruits=\"apple\",veggie='cabbage')  \n",
    "#{'fruits': 'apple', 'veggie': 'cabbage'}\n",
    "#My fruint of choice is apple\n",
    "#A ordem importa aqui dos argumentos\n",
    "def myfunc(*args,**kwargs):\n",
    "    #monstrano os onbjetos\n",
    "    print(args)\n",
    "    print(kwargs)\n",
    "    print('I would like {}{} '.format(args[0],kwargs['food']))\n",
    "    \n",
    "myfunc(10,20,30,fruit='orange',food='eggs',animal='dog')    \n",
    "\n"
   ]
  },
  {
   "cell_type": "code",
   "execution_count": 78,
   "metadata": {},
   "outputs": [
    {
     "name": "stdout",
     "output_type": "stream",
     "text": [
      "0\n",
      "1\n",
      "2\n",
      "3\n",
      "4\n",
      "5\n",
      "6\n",
      "7\n",
      "8\n",
      "9\n",
      "================================\n",
      "12345================================\n",
      "12345================================\n",
      "\n",
      "Banana->\n",
      "\n",
      "Maçã->\n",
      "\n",
      "Goiaba->\n",
      "\n",
      "Banana\n",
      "Maçã\n",
      "Goiaba================================\n",
      "Sum of 1 until 100: 5050\n"
     ]
    }
   ],
   "source": [
    "#laços - Estrutura de Repetição\n",
    "\n",
    "#Laço com alçance definido\n",
    "#significa que irei varrer uma quantidade definida de elementos em um grupo set()\n",
    "i = 0\n",
    "e = 10\n",
    "\n",
    "for i in range(10): #observe que vai até o 9 apenas\n",
    "    print(i)\n",
    "\n",
    "print(\"================================\")      \n",
    "        \n",
    "#Usando um laço pra ver um conjunto\n",
    "x = (1,2,3,4,5)#conjunto\n",
    "for y in x:\n",
    "    print(y,end = \"\") # end é um truque pra imprimir em linha\n",
    "\n",
    "print(\"================================\") \n",
    "\n",
    "z = [1,2,3,4,5]#usando vetores\n",
    "for w in z :\n",
    "    print(w,end = \"\")\n",
    "\n",
    "print(\"================================\")\n",
    "\n",
    "s = (\"Banana\",\"Maçã\",\"Goiaba\")#usando string\n",
    "for r in s :\n",
    "    print('\\n'+r,end = \"\") #'\\n' pulo uma  linha a cada string   \n",
    "    print('->')#o que vier depois na mesma linha entra no laço\n",
    "\n",
    "    \n",
    "ss = [\"Banana\",\"Maçã\",\"Goiaba\"]#usando string e vetor\n",
    "for rr in ss :\n",
    "    print('\\n'+rr,end = \"\") #'\\n' pulo uma  linha a cada string\n",
    "numlista = [1,2,3,4,5,6,7,8,9,10]\n",
    "for x in numlista:\n",
    "    if x % 2 == 0:\n",
    "        print(f\"Par: {x}\")\n",
    "    else:\n",
    "        print(f\"Impar: {x}\")\n",
    "#PARTE IMPORTANTE - INDENTAÇÃO DO FOR\n",
    "\n",
    "#perceba que o escopo do laço é dentro da indentação\n",
    "#loop no dicionario\n",
    "d = {'a1':1,'a2':2,'a3':3}\n",
    "for value in d.values():\n",
    "    print(value)\n",
    "    \n",
    "    \n",
    "    \n",
    "    \n",
    "print(\"================================\")    \n",
    "#Listar interantes\n",
    "list(range(10)) #não preciso printar a menos que guarde em uma variável se quiser\n",
    "\n",
    "#incluindo uma razão \n",
    "list(range(0,20,2))\n",
    "\n",
    "#Operação dentro do laço - Também pode ser feito dentro de uma def\n",
    "n = 100\n",
    "\n",
    "sum = 0\n",
    "for counter in range(1,n+1):\n",
    "    sum = sum + counter\n",
    "\n",
    "print(\"Sum of 1 until %d: %d\" % (n,sum))\n",
    "\n",
    "#while \n",
    "i = 0\n",
    "while i < 6:\n",
    "  i += 1\n",
    "  if i == 3:\n",
    "    continue\n",
    "  print(i)"
   ]
  },
  {
   "cell_type": "code",
   "execution_count": 68,
   "metadata": {},
   "outputs": [
    {
     "name": "stdout",
     "output_type": "stream",
     "text": [
      "4\n",
      "0\n",
      "igual a 4\n",
      "1\n",
      "\n",
      "\n",
      "['Laranja', 'Banana', 'pera']\n",
      "pera\n",
      "Laranja\n",
      "Banana\n",
      "pera\n",
      "Quantos elementos tem na listas: 3\n",
      "['Banana', 'pera']\n",
      "('Jonh', 'Paul', 'Robert', 'Jimmy')\n",
      "('moeda', 'carteira', 'dinheiro', 'Cartão')\n",
      "carteira\n",
      "moeda\n",
      "carteira\n",
      "dinheiro\n",
      "Cartão\n",
      "{'cabrito', 'carneiro', 'cavalo'}\n",
      "{'cabrito', 'carneiro', 'cavalo', 'carroça'}\n",
      "{'carneiro', 'cavalo', 'carroça'}\n",
      "{'medusa', 'carneiro', 'cavalo', 'carroça', 'mandragora', 'morcego'}\n",
      "{'medusa', 'carneiro', 'cavalo', 'carroça', 'morcego'}\n",
      "{'medusa', 'carneiro', 'cavalo', 'morcego'}\n",
      "{'carneiro', 'cavalo', 'morcego'}\n",
      "Conjunto limpo: set()\n",
      "False\n"
     ]
    }
   ],
   "source": [
    "#Operadores lógicos,listas ,tuplas,vetores\n",
    "\n",
    "potencia = 2**2\n",
    "print(str(potencia))\n",
    "\n",
    "print(potencia%2) # resto da divisão\n",
    "\n",
    "if potencia > 2 and potencia < 5 or potencia == 4: # operador and\n",
    "    print(\"igual a 4\")\n",
    "    \n",
    "#Operadores is e not true ou false\n",
    "x = 1\n",
    "x is not 1\n",
    "x is 1\n",
    "print(x)\n",
    "print('\\n')\n",
    "\n",
    "#listas tuplas e conjuntos\n",
    "\n",
    "lista = ['Laranja','Banana','pera']\n",
    "\n",
    "print(lista)\n",
    "print(lista[2])\n",
    "\n",
    "for frutas in lista:\n",
    "    print(frutas)#Varrendo o retorno é uma string\n",
    "print(\"Quantos elementos tem na listas: \" + str(len(lista)))\n",
    "\n",
    "#Removendo intens da lista\n",
    "lista.pop(0)\n",
    "print(lista)\n",
    "# construtor de lista\n",
    "lista2 = ((\"Jonh\",\"Paul\",\"Robert\",\"Jimmy\"))\n",
    "print(lista2)\n",
    "#Existe uma enormidade de metodos para listas (sort(),order,count()....)\n",
    "\n",
    "#Tuplas\n",
    "#As tuplas são diferentes de listas\n",
    "#As listas podemos mudar os elementos,além de os mesmos terem um index nativo\n",
    "#já as tuplas são inalteráveis\n",
    "\n",
    "tupla = (\"moeda\",\"carteira\",\"dinheiro\",\"Cartão\")\n",
    "print(tupla)\n",
    "print(tupla[1])\n",
    "#tupla[1] = \"Bolsa\"  -> se tentar valorar novamente a tupla essa será a resposta = TypeError: 'tuple' object does not support item assignment\n",
    "\n",
    "#interando na tupla\n",
    "for somenthing in tupla:\n",
    "    print(somenthing)\n",
    "    \n",
    "#Conjuntos - não são ordenados então não tem indice -TypeError: 'set' object does not support indexing\n",
    "#não podemos deletar nada em um conjunto mas podemos adcionar coisas\n",
    "conjunto = {\"cavalo\",\"cabrito\",\"carneiro\"}\n",
    "print(conjunto)\n",
    "conjunto.add(\"carroça\")\n",
    "print(conjunto)\n",
    "#Removendo um iten\n",
    "conjunto.remove(\"cabrito\")\n",
    "print(conjunto)\n",
    "#Atualizando o conjunto (adcionando mais coisas)\n",
    "conjunto.update([\"morcego\",\"medusa\",\"mandragora\"])\n",
    "print(conjunto)\n",
    "#Tirando coisas do conjunto\n",
    "conjunto.remove(\"mandragora\")\n",
    "print(conjunto)\n",
    "#Descarte coisas do conjuntos\n",
    "conjunto.discard(\"carroça\")\n",
    "print(conjunto)\n",
    "#removendo o ultimo iten\n",
    "conjunto.pop()\n",
    "print(conjunto)\n",
    "#limpando o conjunto\n",
    "conjunto.clear()\n",
    "print(\"Conjunto limpo: \" + str(conjunto))\n",
    "#Procurando um item em um conjunto\n",
    "print(\"jumento\" in conjunto) #False\n"
   ]
  },
  {
   "cell_type": "code",
   "execution_count": 69,
   "metadata": {},
   "outputs": [
    {
     "name": "stdout",
     "output_type": "stream",
     "text": [
      "{'Marca': 'peugeot 206', 'Ano': 2004, 'Modelo': 'Soleil'}\n",
      "peugeot 206\n",
      "False\n",
      "{'Marca': 'Peugeot', 'Ano': 2004, 'Modelo': 'Soleil'}\n",
      "Peugeot\n",
      "2004\n",
      "Soleil\n",
      "('Marca', 'Peugeot')\n",
      "('Ano', 2004)\n",
      "('Modelo', 'Soleil')\n",
      "{'Marca': 'Peugeot', 'Ano': 2004, 'Modelo': 206, 'Cor': 'Prata'}\n"
     ]
    }
   ],
   "source": [
    "#Dicionário - é uma coleção do tipo jason ou do tipo o key:value que tem no java script também\n",
    "#Quase um objeto\n",
    "\n",
    "carro = {\n",
    "  \"Marca\":\"peugeot 206\",\n",
    "  \"Ano\": 2004,\n",
    "  \"Modelo\":\"Soleil\"\n",
    "  \n",
    "}    \n",
    "\n",
    "print(carro)\n",
    "#retornando o modelo\n",
    "print(carro[\"Marca\"])\n",
    "print(\"portas\" in carro)\n",
    "#print(carro[3]) Erro\n",
    "#Pegando um valor\n",
    "carro.get(\"Ano\") #Saida como function\n",
    "\n",
    "#mudando valores = em python uma nova declaração equivale a um update em muitos casos\n",
    "\n",
    "carro[\"Marca\"] = \"Peugeot\"\n",
    "print(carro)\n",
    "\n",
    "#interando sobre os valores,varrendo só os valores\n",
    "for cars in carro.values():\n",
    "    print(cars)\n",
    "#interando sobre os itens \n",
    "for carss in carro.items():\n",
    "    print(carss)\n",
    "#ADcionar novos dados\n",
    "carro[\"Modelo\"] = 206\n",
    "carro[\"Cor\"] = \"Prata\"\n",
    "print(carro)"
   ]
  },
  {
   "cell_type": "code",
   "execution_count": 79,
   "metadata": {},
   "outputs": [
    {
     "name": "stdout",
     "output_type": "stream",
     "text": [
      "13\n"
     ]
    }
   ],
   "source": [
    "#Lambda - é uma função que pode ter muitos argumentos em uma unica expressão como se fosse uma expressão regular\n",
    "\n",
    "x = lambda a, b, c : a + b + c\n",
    "print(x(5, 6, 2))"
   ]
  },
  {
   "cell_type": "code",
   "execution_count": 80,
   "metadata": {},
   "outputs": [
    {
     "name": "stdout",
     "output_type": "stream",
     "text": [
      "John\n",
      "36\n"
     ]
    }
   ],
   "source": [
    "#Classes e Objetos\n",
    "#Lambrando que a variável declarada dentro da função só vale lá dentros assim como no java,scopo da função.\n",
    "\n",
    "class Person:\n",
    "  def __init__(self, name, age):\n",
    "    self.name = name\n",
    "    self.age = age\n",
    "\n",
    "p1 = Person(\"John\", 36)\n",
    "\n",
    "print(p1.name)\n",
    "print(p1.age)"
   ]
  },
  {
   "cell_type": "code",
   "execution_count": 81,
   "metadata": {},
   "outputs": [
    {
     "name": "stdout",
     "output_type": "stream",
     "text": [
      "John Doe\n"
     ]
    }
   ],
   "source": [
    "#Herança\n",
    "\n",
    "class Person:\n",
    "  def __init__(self, fname, lname):\n",
    "    self.firstname = fname\n",
    "    self.lastname = lname\n",
    "\n",
    "  def printname(self):\n",
    "    print(self.firstname, self.lastname)\n",
    "\n",
    "#Use the Person class to create an object, and then execute the printname method:\n",
    "\n",
    "x = Person(\"John\", \"Doe\")\n",
    "x.printname()"
   ]
  },
  {
   "cell_type": "code",
   "execution_count": 84,
   "metadata": {},
   "outputs": [],
   "source": [
    "#Módulos. Os módulos são libs, que podem ser exportadas com extensão .py e usadas como partes de código ou libs\n",
    "\n",
    "def greeting(name):\n",
    "  print(\"Hello, \" + name)\n",
    "\n",
    "import mymodule\n",
    "\n",
    "mymodule.greeting(\"Jonathan\")\n",
    "\n",
    "\n",
    "#-----------------------#\n",
    "person1 = {\n",
    "  \"name\": \"John\",\n",
    "  \"age\": 36,\n",
    "  \"country\": \"Norway\"\n",
    "}\n",
    "#Salve o código acima com extensão.py\n",
    "#na hora de importar use\n",
    "\n",
    "import mymodule\n",
    "\n",
    "a = mymodule.person1[\"age\"]\n",
    "print(a)"
   ]
  },
  {
   "cell_type": "code",
   "execution_count": 86,
   "metadata": {},
   "outputs": [
    {
     "name": "stdout",
     "output_type": "stream",
     "text": [
      "2019-10-10 08:46:56.130128\n",
      "2020-05-17 00:00:00\n"
     ]
    }
   ],
   "source": [
    "#DATAS\n",
    "\n",
    "\n",
    "import datetime\n",
    "\n",
    "x = datetime.datetime.now()\n",
    "print(x)\n",
    "\n",
    "x = datetime.datetime(2020, 5, 17)\n",
    "\n",
    "print(x)"
   ]
  },
  {
   "cell_type": "code",
   "execution_count": null,
   "metadata": {},
   "outputs": [],
   "source": [
    "#JSON\n",
    "\n",
    "import json\n",
    "\n",
    "# a Python object (dict):\n",
    "x = {\n",
    "  \"name\": \"John\",\n",
    "  \"age\": 30,\n",
    "  \"city\": \"New York\"\n",
    "}\n",
    "\n",
    "# convert into JSON:\n",
    "y = json.dumps(x)\n",
    "\n",
    "# the result is a JSON string:\n",
    "print(y)"
   ]
  },
  {
   "cell_type": "code",
   "execution_count": 87,
   "metadata": {},
   "outputs": [
    {
     "name": "stdout",
     "output_type": "stream",
     "text": [
      "2020-05-17 00:00:00\n",
      "The 'try except' is finished\n"
     ]
    }
   ],
   "source": [
    "#Tratamento de Excessões\n",
    "#try:Código a ser testado,except:excessão do bloco anterior,finnaly:resultante do bloc anteriro\n",
    "\n",
    "try:\n",
    "  print(x)\n",
    "except:\n",
    "  print(\"Something went wrong\")\n",
    "finally:\n",
    "  print(\"The 'try except' is finished\")"
   ]
  },
  {
   "cell_type": "code",
   "execution_count": null,
   "metadata": {},
   "outputs": [],
   "source": [
    "#Saida Formatada\n",
    "\n",
    "price = 49\n",
    "txt = \"The price is {} dollars\"\n",
    "print(txt.format(price))"
   ]
  },
  {
   "cell_type": "code",
   "execution_count": 67,
   "metadata": {},
   "outputs": [
    {
     "name": "stdout",
     "output_type": "stream",
     "text": [
      "Diego\n",
      "Seu Nome: Diego\n"
     ]
    }
   ],
   "source": [
    "#entrada de valores\n",
    "#função input()\n",
    "\n",
    "nome = input()\n",
    "print(\"Seu Nome: \" + nome)\n"
   ]
  },
  {
   "cell_type": "code",
   "execution_count": null,
   "metadata": {},
   "outputs": [],
   "source": [
    "#conexões com Banco - Ver site da w3consortium"
   ]
  },
  {
   "cell_type": "code",
   "execution_count": 2,
   "metadata": {},
   "outputs": [
    {
     "data": {
      "text/plain": [
       "4"
      ]
     },
     "execution_count": 2,
     "metadata": {},
     "output_type": "execute_result"
    }
   ],
   "source": [
    "# funções\n",
    "mylist = [1,2,3]\n",
    "mylist.append(4)\n",
    "mylist\n",
    "mylist.pop()#não passei o indice\n",
    "#importante\n",
    "#ajuda dos comandos = shift + tab\n",
    "#se tiver no terminal pode ser\n",
    "#help(mylist.insert) em uma nova celula\n",
    "#também é possível ir na documentaçãp direto\n"
   ]
  },
  {
   "cell_type": "code",
   "execution_count": 3,
   "metadata": {},
   "outputs": [
    {
     "name": "stdout",
     "output_type": "stream",
     "text": [
      "Help on built-in function insert:\n",
      "\n",
      "insert(index, object, /) method of builtins.list instance\n",
      "    Insert object before index.\n",
      "\n"
     ]
    }
   ],
   "source": [
    "help(mylist.insert)"
   ]
  },
  {
   "cell_type": "code",
   "execution_count": 6,
   "metadata": {},
   "outputs": [],
   "source": [
    "#desafio 10 imprimir alternado \n",
    "\n",
    "def myfunc(x):\n",
    "    out = []\n",
    "    for i in range(len(x)):\n",
    "        if i%2==0:\n",
    "            out.append(x[i].lower())\n",
    "        else:\n",
    "            out.append(x[i].upper())\n",
    "    return ''.join(out)   "
   ]
  },
  {
   "cell_type": "code",
   "execution_count": 9,
   "metadata": {},
   "outputs": [
    {
     "name": "stdout",
     "output_type": "stream",
     "text": [
      "1\n",
      "4\n",
      "9\n",
      "16\n",
      "25\n"
     ]
    },
    {
     "data": {
      "text/plain": [
       "[1, 4, 9, 16, 25]"
      ]
     },
     "execution_count": 9,
     "metadata": {},
     "output_type": "execute_result"
    }
   ],
   "source": [
    "#map filter e lambda expressios\n",
    "#o map analisa funções e retorna a regra até acabar como se fosse um while \n",
    "#ex\n",
    "def square(num):\n",
    "    return num**2\n",
    "my_nums = [1,2,3,4,5]\n",
    "\n",
    "#tem que interar para que o map rode a função passando a var como param\n",
    "for item in map(square,my_nums):\n",
    "    print(item)\n",
    "#saida (1,4,9,16,25)\n",
    "#voltando a lista\n",
    "list(map(square,my_nums))"
   ]
  },
  {
   "cell_type": "code",
   "execution_count": 11,
   "metadata": {},
   "outputs": [
    {
     "data": {
      "text/plain": [
       "['even', 'E', 'S']"
      ]
     },
     "execution_count": 11,
     "metadata": {},
     "output_type": "execute_result"
    }
   ],
   "source": [
    "#mapeando strings\n",
    "def splicer(mystring):\n",
    "    if len(mystring)%2 == 0:\n",
    "        return 'even'\n",
    "    else:\n",
    "        return mystring[0]\n",
    "    \n",
    "names = ['Andy','Eve','Sally']   \n",
    "#perceba que para chamar a função no map não definimos os parametros ela é o param do map\n",
    "list(map(splicer,names))"
   ]
  },
  {
   "cell_type": "code",
   "execution_count": 19,
   "metadata": {},
   "outputs": [
    {
     "name": "stdout",
     "output_type": "stream",
     "text": [
      "2\n",
      "4\n",
      "6\n"
     ]
    }
   ],
   "source": [
    "#filter\n",
    "#filtrar, é similar ao map\n",
    "def check_even(nums):\n",
    "    return nums%2 == 0\n",
    "    \n",
    "nums = [1,2,3,4,5,6]    \n",
    "\n",
    "#digamos que queremos apenas os números pares dessa lista\n",
    "filter(check_even,nums)\n",
    "#podemos passar pra lista de novo\n",
    "list(filter(check_even,my_nums))\n",
    "#ou varremos com for\n",
    "for n in filter(check_even,nums):\n",
    "    print(n)"
   ]
  },
  {
   "cell_type": "code",
   "execution_count": 25,
   "metadata": {},
   "outputs": [
    {
     "data": {
      "text/plain": [
       "[2, 4, 6]"
      ]
     },
     "execution_count": 25,
     "metadata": {},
     "output_type": "execute_result"
    }
   ],
   "source": [
    "#lambda\n",
    "#função anonimas, só rodam uma vez\n",
    "#não precisa de nome\n",
    "#Exemplo\n",
    "#def square(num):\n",
    "    #return num**2\n",
    "square = lambda num: num**2   \n",
    "square(2)\n",
    "\n",
    "#passando um casting com lambda e map,passei uma lista la de cima\n",
    "list(map(lambda num:num**2,nums))\n",
    "#pegando nosso filter com lambda\n",
    "list(filter(lambda num:num%2 == 0,nums))"
   ]
  },
  {
   "cell_type": "code",
   "execution_count": 1,
   "metadata": {},
   "outputs": [
    {
     "ename": "NameError",
     "evalue": "name 'names' is not defined",
     "output_type": "error",
     "traceback": [
      "\u001b[1;31m---------------------------------------------------------------------------\u001b[0m",
      "\u001b[1;31mNameError\u001b[0m                                 Traceback (most recent call last)",
      "\u001b[1;32m<ipython-input-1-b2e5188aaa23>\u001b[0m in \u001b[0;36m<module>\u001b[1;34m\u001b[0m\n\u001b[0;32m      1\u001b[0m \u001b[1;31m#digamos que eu queira a primeira letra de cada nome\u001b[0m\u001b[1;33m\u001b[0m\u001b[1;33m\u001b[0m\u001b[1;33m\u001b[0m\u001b[0m\n\u001b[1;32m----> 2\u001b[1;33m \u001b[0mnames\u001b[0m\u001b[1;33m\u001b[0m\u001b[1;33m\u001b[0m\u001b[0m\n\u001b[0m\u001b[0;32m      3\u001b[0m \u001b[0mlist\u001b[0m\u001b[1;33m(\u001b[0m\u001b[0mmap\u001b[0m\u001b[1;33m(\u001b[0m\u001b[1;32mlambda\u001b[0m \u001b[0mx\u001b[0m \u001b[1;33m:\u001b[0m \u001b[0mx\u001b[0m\u001b[1;33m[\u001b[0m\u001b[1;36m0\u001b[0m\u001b[1;33m]\u001b[0m\u001b[1;33m,\u001b[0m \u001b[0mnames\u001b[0m\u001b[1;33m)\u001b[0m\u001b[1;33m)\u001b[0m\u001b[1;33m\u001b[0m\u001b[1;33m\u001b[0m\u001b[0m\n",
      "\u001b[1;31mNameError\u001b[0m: name 'names' is not defined"
     ]
    }
   ],
   "source": [
    "#digamos que eu queira a primeira letra de cada nome\n",
    "names\n",
    "list(map(lambda x : x[0], names))"
   ]
  },
  {
   "cell_type": "code",
   "execution_count": 1,
   "metadata": {},
   "outputs": [
    {
     "name": "stdout",
     "output_type": "stream",
     "text": [
      "10\n"
     ]
    },
    {
     "ename": "NameError",
     "evalue": "name 'muito' is not defined",
     "output_type": "error",
     "traceback": [
      "\u001b[1;31m---------------------------------------------------------------------------\u001b[0m",
      "\u001b[1;31mNameError\u001b[0m                                 Traceback (most recent call last)",
      "\u001b[1;32m<ipython-input-1-ad1c73a86c41>\u001b[0m in \u001b[0;36m<module>\u001b[1;34m\u001b[0m\n\u001b[0;32m     16\u001b[0m \u001b[0mprint\u001b[0m\u001b[1;33m(\u001b[0m\u001b[0mx\u001b[0m\u001b[1;33m)\u001b[0m\u001b[1;33m\u001b[0m\u001b[1;33m\u001b[0m\u001b[0m\n\u001b[0;32m     17\u001b[0m \u001b[0mmorto\u001b[0m\u001b[1;33m(\u001b[0m\u001b[1;33m)\u001b[0m\u001b[1;33m\u001b[0m\u001b[1;33m\u001b[0m\u001b[0m\n\u001b[1;32m---> 18\u001b[1;33m \u001b[0mmuito\u001b[0m\u001b[1;33m(\u001b[0m\u001b[1;33m)\u001b[0m\u001b[1;33m\u001b[0m\u001b[1;33m\u001b[0m\u001b[0m\n\u001b[0m",
      "\u001b[1;31mNameError\u001b[0m: name 'muito' is not defined"
     ]
    }
   ],
   "source": [
    "#nested declarações e escopo\n",
    "#variáveis diretas são globais\n",
    "#x = 10 - Global\n",
    "#dentro de função, lambda,map e filter é da mais pra mais externa\n",
    "x = 10\n",
    "def morto():\n",
    "    global x\n",
    "    return x\n",
    "    def muito():\n",
    "        x = 15\n",
    "        return x\n",
    "        def louco():\n",
    "            x = 30\n",
    "            return x\n",
    "\n",
    "print(x)\n",
    "morto()\n",
    "muito()\n"
   ]
  },
  {
   "cell_type": "code",
   "execution_count": 1,
   "metadata": {},
   "outputs": [
    {
     "name": "stdout",
     "output_type": "stream",
     "text": [
      "Deigo\n"
     ]
    },
    {
     "ename": "ValueError",
     "evalue": "invalid literal for int() with base 10: 'Deigo'",
     "output_type": "error",
     "traceback": [
      "\u001b[1;31m---------------------------------------------------------------------------\u001b[0m",
      "\u001b[1;31mValueError\u001b[0m                                Traceback (most recent call last)",
      "\u001b[1;32m<ipython-input-1-e75048251e11>\u001b[0m in \u001b[0;36m<module>\u001b[1;34m\u001b[0m\n\u001b[0;32m      1\u001b[0m \u001b[1;31m#entrada de dados\u001b[0m\u001b[1;33m\u001b[0m\u001b[1;33m\u001b[0m\u001b[1;33m\u001b[0m\u001b[0m\n\u001b[0;32m      2\u001b[0m \u001b[0mnome\u001b[0m \u001b[1;33m=\u001b[0m \u001b[0minput\u001b[0m\u001b[1;33m(\u001b[0m\u001b[1;33m)\u001b[0m\u001b[1;33m\u001b[0m\u001b[1;33m\u001b[0m\u001b[0m\n\u001b[1;32m----> 3\u001b[1;33m \u001b[0mint\u001b[0m\u001b[1;33m(\u001b[0m\u001b[0mnome\u001b[0m\u001b[1;33m)\u001b[0m\u001b[1;33m\u001b[0m\u001b[1;33m\u001b[0m\u001b[0m\n\u001b[0m",
      "\u001b[1;31mValueError\u001b[0m: invalid literal for int() with base 10: 'Deigo'"
     ]
    }
   ],
   "source": [
    "#entrada de dados\n",
    "nome = input()\n",
    "#int(nome)#parsing \n",
    "\n"
   ]
  },
  {
   "cell_type": "code",
   "execution_count": null,
   "metadata": {},
   "outputs": [
    {
     "name": "stdout",
     "output_type": "stream",
     "text": [
      "Digite um número de 0 a 10: bla\n",
      "Desculpe, digite um numero!!!\n",
      "Digite um número de 0 a 10: ble\n",
      "Desculpe, digite um numero!!!\n",
      "Digite um número de 0 a 10: bli\n",
      "Desculpe, digite um numero!!!\n",
      "Digite um número de 0 a 10: blo\n",
      "Desculpe, digite um numero!!!\n",
      "Digite um número de 0 a 10: blu\n",
      "Desculpe, digite um numero!!!\n",
      "Digite um número de 0 a 10: lee\n",
      "Desculpe, digite um numero!!!\n",
      "Digite um número de 0 a 10: ddd\n",
      "Desculpe, digite um numero!!!\n",
      "Digite um número de 0 a 10: hjduhduhd\n",
      "Desculpe, digite um numero!!!\n",
      "Digite um número de 0 a 10: dddd\n",
      "Desculpe, digite um numero!!!\n",
      "Digite um número de 0 a 10: ijdijdd\n",
      "Desculpe, digite um numero!!!\n",
      "Digite um número de 0 a 10: ijdijd\n",
      "Desculpe, digite um numero!!!\n",
      "Digite um número de 0 a 10: 10\n",
      "Digite um número de 0 a 10: 15\n",
      "Digite um número de 0 a 10: 15\n",
      "Digite um número de 0 a 10: 12\n",
      "Digite um número de 0 a 10: 12\n",
      "Digite um número de 0 a 10: 12\n",
      "Digite um número de 0 a 10: 12\n"
     ]
    }
   ],
   "source": [
    "#validando entradas\n",
    "#result = input(\"Digite um número\") sem validação\n",
    "#com validação\n",
    "#existe um grande número de possibilidades para validae\n",
    "def user_choice():\n",
    "    choice = 'Wrong'\n",
    "    #Vamos colocar um limite de validar\n",
    "    aceita_range = range(0,5)\n",
    "    withim_range = False\n",
    "    \n",
    "    #o laço serve enquanto você não entrar com um valor correto ele vai repetir\n",
    "    while choice.isdigit() == False or withim_range == False:\n",
    "        choice = input(\"Digite um número de 0 a 10: \")\n",
    "        if choice.isdigit() == False:\n",
    "            print(\"Desculpe, digite um numero!!!\")\n",
    "            #Vamos checar \n",
    "            if choice.isdigit() == True:\n",
    "                if int(choice) in aceita_range:\n",
    "                    withim_range = True\n",
    "                else:\n",
    "                    withim_range = False\n",
    "    return int(choice)\n",
    "    \n",
    "    \n",
    "user_choice()"
   ]
  },
  {
   "cell_type": "code",
   "execution_count": 1,
   "metadata": {},
   "outputs": [],
   "source": [
    "#joguiinho com os conceitos abaixo"
   ]
  },
  {
   "cell_type": "code",
   "execution_count": null,
   "metadata": {},
   "outputs": [],
   "source": []
  },
  {
   "cell_type": "code",
   "execution_count": 6,
   "metadata": {},
   "outputs": [],
   "source": [
    "game_list  = [0,1,2]"
   ]
  },
  {
   "cell_type": "code",
   "execution_count": 7,
   "metadata": {},
   "outputs": [],
   "source": [
    "def display_game(game_list):\n",
    "    print(\"here is the current list: \")\n",
    "    print(game_list)"
   ]
  },
  {
   "cell_type": "code",
   "execution_count": 8,
   "metadata": {},
   "outputs": [],
   "source": [
    "def position_choice():\n",
    "    choice = 'Wrong'\n",
    "    while choice not in ['0','1','2']:\n",
    "        choice = input(\"Pick a position (0,1,2): \")\n",
    "        if choice not in ['0','1','2']:\n",
    "            print(\"Sorry, invalid choice:\")\n",
    "    return int(choice)        \n",
    "        \n",
    "    "
   ]
  },
  {
   "cell_type": "code",
   "execution_count": 9,
   "metadata": {},
   "outputs": [],
   "source": [
    "def replacement_choice(game_list,position):\n",
    "    user_placement = input(\"Type a string to place at position: \")\n",
    "    game_list[position]=user_placement\n",
    "    return game_list"
   ]
  },
  {
   "cell_type": "code",
   "execution_count": null,
   "metadata": {},
   "outputs": [],
   "source": [
    "replacement_choice(game_list,1)#testanto"
   ]
  },
  {
   "cell_type": "code",
   "execution_count": 10,
   "metadata": {},
   "outputs": [],
   "source": [
    "def gameon_choice():\n",
    "    choice = 'Wrong'\n",
    "    while choice not in ['Y','N']:\n",
    "        choice = input(\"Keep Playng(Y or N): \")\n",
    "        if choice not in ['Y','N']:\n",
    "            print(\"Sorry, i dont understand, please choose Y or N:\")\n",
    "    if choice == \"Y\":\n",
    "        return True\n",
    "    else:\n",
    "        return False"
   ]
  },
  {
   "cell_type": "code",
   "execution_count": 11,
   "metadata": {},
   "outputs": [
    {
     "name": "stdout",
     "output_type": "stream",
     "text": [
      "here is the current list: \n",
      "[0, 1, 2]\n",
      "Pick a position (0,1,2): 0\n",
      "Type a string to place at position: Diego\n",
      "here is the current list: \n",
      "['Diego', 1, 2]\n",
      "Keep Playng(Y or N): Y\n",
      "here is the current list: \n",
      "['Diego', 1, 2]\n",
      "Pick a position (0,1,2): 1\n",
      "Type a string to place at position: Delevedove\n",
      "here is the current list: \n",
      "['Diego', 'Delevedove', 2]\n",
      "Keep Playng(Y or N): N\n"
     ]
    }
   ],
   "source": [
    "game_on = True\n",
    "game_list = [0,1,2]\n",
    "while game_on:\n",
    "    display_game(game_list)\n",
    "    position = position_choice()\n",
    "    replacement_choice(game_list,position)\n",
    "    display_game(game_list)\n",
    "    game_on = gameon_choice()"
   ]
  }
 ],
 "metadata": {
  "kernelspec": {
   "display_name": "Python 3",
   "language": "python",
   "name": "python3"
  },
  "language_info": {
   "codemirror_mode": {
    "name": "ipython",
    "version": 3
   },
   "file_extension": ".py",
   "mimetype": "text/x-python",
   "name": "python",
   "nbconvert_exporter": "python",
   "pygments_lexer": "ipython3",
   "version": "3.7.1"
  }
 },
 "nbformat": 4,
 "nbformat_minor": 2
}
