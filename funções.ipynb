{
 "cells": [
  {
   "cell_type": "code",
   "execution_count": 1,
   "metadata": {},
   "outputs": [],
   "source": [
    "import sys\n",
    "import os\n",
    "\n",
    "\n",
    "#Trabahando com funções\n",
    "\n",
    "#Sintaxe\n",
    "#def nomeDaFunção(parâmetros)\n",
    "#   Código para executar\n"
   ]
  },
  {
   "cell_type": "code",
   "execution_count": 15,
   "metadata": {},
   "outputs": [
    {
     "name": "stdout",
     "output_type": "stream",
     "text": [
      "Contanto: 0\n",
      "Contanto: 1\n",
      "Contanto: 2\n",
      "Contanto: 3\n",
      "Contanto: 4\n",
      "Contanto: 5\n",
      "Contanto: 6\n",
      "Contanto: 7\n",
      "Contanto: 8\n",
      "Contanto: 9\n"
     ]
    }
   ],
   "source": [
    "msg1 = \"Contanto: \"\n",
    "\n",
    "def ciclo(msg1):\n",
    "    for a in range(10):\n",
    "        print(msg1 + str(a))\n",
    "        \n",
    "ciclo(msg1)        \n",
    "    \n",
    "    \n"
   ]
  },
  {
   "cell_type": "code",
   "execution_count": 20,
   "metadata": {},
   "outputs": [
    {
     "name": "stdout",
     "output_type": "stream",
     "text": [
      "Contanto: 0\n",
      "Contanto: 1\n",
      "Contanto: 2\n",
      "Contanto: 3\n",
      "Contanto: 4\n",
      "Contanto: 5\n",
      "Contanto: 6\n",
      "Contanto: 7\n",
      "Contanto: 8\n",
      "Contanto: 9\n",
      "Contanto: 0\n",
      "Contanto: 1\n",
      "Contanto: 2\n",
      "Contanto: 3\n",
      "Contanto: 4\n",
      "Contanto: 5\n",
      "Contanto: 6\n",
      "Contanto: 7\n",
      "Contanto: 8\n",
      "Contanto: 9\n"
     ]
    }
   ],
   "source": [
    "#Agora vou chamar a função sobre função\n",
    "init = 0\n",
    "for a in range(2):\n",
    "    ciclo(msg1) "
   ]
  }
 ],
 "metadata": {
  "kernelspec": {
   "display_name": "Python 3",
   "language": "python",
   "name": "python3"
  },
  "language_info": {
   "codemirror_mode": {
    "name": "ipython",
    "version": 3
   },
   "file_extension": ".py",
   "mimetype": "text/x-python",
   "name": "python",
   "nbconvert_exporter": "python",
   "pygments_lexer": "ipython3",
   "version": "3.7.1"
  }
 },
 "nbformat": 4,
 "nbformat_minor": 2
}
