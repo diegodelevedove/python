{
 "cells": [
  {
   "cell_type": "markdown",
   "metadata": {},
   "source": [
    "<style>\n",
    "td {\n",
    "  font-size: 50px\n",
    "}\n",
    "</style>"
   ]
  },
  {
   "cell_type": "code",
   "execution_count": 14,
   "metadata": {},
   "outputs": [],
   "source": [
    "#O objetivo é criar uma fase de análise antes da extração\n",
    "#Ler Arquivos e identificar Metadados\n",
    "#Chamarei de visão geral de ETL  \n",
    "\n",
    "\n",
    "#libs\n",
    "import os\n",
    "import sys\n",
    "from os import walk\n",
    "import fnmatch\n",
    "import glob\n",
    "import pandas as pd\n",
    "import numpy as np\n",
    "import csv\n",
    "from os import listdir\n"
   ]
  },
  {
   "cell_type": "code",
   "execution_count": 137,
   "metadata": {},
   "outputs": [
    {
     "name": "stdout",
     "output_type": "stream",
     "text": [
      "Quantidade de Arquivos: 18\n"
     ]
    }
   ],
   "source": [
    "#Retornando o nome das pastas e arquivos recursivamente - Deu errado\n",
    "counter = sum(len(files)for _, _, files in os.walk(r'C:/Users/Diego/Desktop/pythonRead/'))\n",
    "print(\"Quantidade de Arquivos: \" + str(counter))\n",
    "# retornar recursivo mas não permite separar\n",
    "\n",
    "   \n"
   ]
  },
  {
   "cell_type": "code",
   "execution_count": 118,
   "metadata": {},
   "outputs": [
    {
     "name": "stdout",
     "output_type": "stream",
     "text": [
      "dataSetAnimais.csv\n",
      "1\n",
      "exejoin01.csv\n",
      "1\n",
      "exejoin02.csv\n",
      "1\n",
      "exejoin03.csv\n",
      "1\n",
      "forestfires.csv\n",
      "1\n",
      "planilhaParaTeste.csv\n",
      "1\n",
      "train - Copia.csv\n",
      "1\n",
      "train.csv\n",
      "1\n"
     ]
    }
   ],
   "source": [
    "#fiultrando por arquivo usando listdir\n",
    "for file in os.listdir('C:/Users/Diego/Desktop/pythonRead/'):\n",
    "    if fnmatch.fnmatch(file,'*.csv'):\n",
    "        print(file)\n",
    "        print(file.count(file))\n",
    "        "
   ]
  },
  {
   "cell_type": "code",
   "execution_count": 112,
   "metadata": {},
   "outputs": [
    {
     "name": "stdout",
     "output_type": "stream",
     "text": [
      "C:/Users/Diego/Desktop/pythonRead\\dataSetAnimais.csv\n",
      "C:/Users/Diego/Desktop/pythonRead\\exejoin01.csv\n",
      "C:/Users/Diego/Desktop/pythonRead\\exejoin02.csv\n",
      "C:/Users/Diego/Desktop/pythonRead\\exejoin03.csv\n",
      "C:/Users/Diego/Desktop/pythonRead\\forestfires.csv\n",
      "C:/Users/Diego/Desktop/pythonRead\\planilhaParaTeste.csv\n",
      "C:/Users/Diego/Desktop/pythonRead\\train - Copia.csv\n",
      "C:/Users/Diego/Desktop/pythonRead\\train.csv\n",
      "18\n"
     ]
    }
   ],
   "source": [
    "#Dessa Maneiroa\n",
    "#Esses comandos também ajuda com cmd:dir /s/a ou dir /s/b\n",
    "\n",
    "caminho = 'C:/Users/Diego/Desktop/pythonRead/'\n",
    "contarArquivos = sum(len(files)for _, _, files in os.walk(r'C:/Users/Diego/Desktop/pythonRead/'))\n",
    "for caminho in glob.glob(caminho + '**/*csv', recursive=True):\n",
    "    print(caminho)\n",
    "print(contarArquivos)   \n",
    "\n",
    "\n",
    "   \n",
    "    \n",
    "    \n",
    "  "
   ]
  },
  {
   "cell_type": "code",
   "execution_count": 94,
   "metadata": {},
   "outputs": [
    {
     "name": "stdout",
     "output_type": "stream",
     "text": [
      "15\n",
      "2\n"
     ]
    }
   ],
   "source": [
    "#Contando sem laço\n",
    "\n",
    "caminho = 'C:/Users/Diego/Desktop/pythonRead/'\n",
    "path,folder,files =  next(os.walk(caminho))\n",
    "print(len(files))\n",
    "print(len(folder))\n",
    "    \n"
   ]
  },
  {
   "cell_type": "code",
   "execution_count": 9,
   "metadata": {},
   "outputs": [
    {
     "name": "stdout",
     "output_type": "stream",
     "text": [
      "\n",
      "\n",
      "Buscando Arquivos na Pasta: C:/Users/Diego/Desktop/pythonRead\n",
      "-------------------------------------------\n",
      "Pasta: C:/Users/Diego/Desktop/pythonRead\n",
      "Arquivos: \n",
      "dataSetAnimais.csv\n",
      "exejoin.xlsx\n",
      "exejoin01.csv\n",
      "exejoin02.csv\n",
      "exejoin03.csv\n",
      "exemploDados.pbix\n",
      "forest-fires-data-set.zip\n",
      "forestfires.csv\n",
      "instalandocaptadoremg.pdf\n",
      "planilhaParaTeste.csv\n",
      "predi.xlsx\n",
      "train - Copia.csv\n",
      "train.csv\n",
      "traincsv.zip\n",
      "transformacaoteste.ktr\n",
      "Quantidade de Arquivos: 15\n",
      "\n",
      "\n",
      "Buscando Arquivos na Pasta: C:/Users/Diego/Desktop/pythonRead\n",
      "-------------------------------------------\n",
      "Pasta: C:/Users/Diego/Desktop/pythonRead\\maiscoisas\n",
      "Arquivos: \n",
      "algo.bmp\n",
      "maisFile.docx\n",
      "semanaSe.txt\n",
      "Quantidade de Arquivos: 3\n",
      "\n",
      "\n",
      "Buscando Arquivos na Pasta: C:/Users/Diego/Desktop/pythonRead\n",
      "-------------------------------------------\n",
      "Pasta: C:/Users/Diego/Desktop/pythonRead\\xml\n",
      "Arquivos: \n",
      "docxml.xml\n",
      "docxml2.xml\n",
      "Quantidade de Arquivos: 2\n",
      "Total de Arquivos: 20\n",
      "-------------------------------------------\n",
      "Buscando Arquivos pela Extensão: **/*.csv\n",
      "C:/Users/Diego/Desktop\\pythonRead\\dataSetAnimais.csv\n",
      "C:/Users/Diego/Desktop\\pythonRead\\exejoin01.csv\n",
      "C:/Users/Diego/Desktop\\pythonRead\\exejoin02.csv\n",
      "C:/Users/Diego/Desktop\\pythonRead\\exejoin03.csv\n",
      "C:/Users/Diego/Desktop\\pythonRead\\forestfires.csv\n",
      "C:/Users/Diego/Desktop\\pythonRead\\planilhaParaTeste.csv\n",
      "C:/Users/Diego/Desktop\\pythonRead\\train - Copia.csv\n",
      "C:/Users/Diego/Desktop\\pythonRead\\train.csv\n",
      "Total Filtro(Extensões):8\n"
     ]
    }
   ],
   "source": [
    "#Substituir o caminho da variável em caminho\n",
    "#Substituir extensão - exemplo .txt,.csv,.xml...\n",
    "#Obs: Para a busca por extensão precisa estar na pasta raiz. \n",
    "\n",
    "caminho = 'C:/Users/Diego/Desktop/pythonRead'\n",
    "extensao = '**/*.csv'\n",
    "\n",
    "for path,folder,files in os.walk(caminho):\n",
    "    print(\"\\n\")\n",
    "    print(\"Buscando Arquivos na Pasta: \" + str(caminho))\n",
    "    print(\"-------------------------------------------\")\n",
    "    print(\"Pasta: \" + str(path))\n",
    "    print(\"Arquivos: \"+\"\\n\" + '\\n'.join(map(str,files)))\n",
    "    print(\"Quantidade de Arquivos: \"+ str(len(files)))\n",
    "print(\"Total de Arquivos: \" + str(sum(len(files)for _, _, files in os.walk(caminho))))\n",
    "#Buscando por Extensão\n",
    "print(\"-------------------------------------------\")\n",
    "print(\"Buscando Arquivos pela Extensão: \" + str(extensao))\n",
    "for listandoExtensao in glob.glob(caminho + extensao,recursive = True):\n",
    "    print(listandoExtensao)\n",
    "print(\"Total Filtro(Extensões):\" + str(len(glob.glob(caminho + extensao))))"
   ]
  },
  {
   "cell_type": "code",
   "execution_count": 142,
   "metadata": {},
   "outputs": [
    {
     "name": "stdout",
     "output_type": "stream",
     "text": [
      "dataSetAnimais.csv\n",
      "exejoin.xlsx\n",
      "exejoin01.csv\n",
      "exejoin02.csv\n",
      "exejoin03.csv\n",
      "exemploDados.pbix\n",
      "forest-fires-data-set.zip\n",
      "forestfires.csv\n",
      "instalandocaptadoremg.pdf\n",
      "plainText\n",
      "planilhaParaTeste.csv\n",
      "predi.xlsx\n",
      "train - Copia.csv\n",
      "train.csv\n",
      "traincsv.zip\n",
      "transformacaoteste.ktr\n",
      "xml\n"
     ]
    }
   ],
   "source": [
    "#não pega recursivamente\n",
    "caminho = 'C:/Users/Diego/Desktop/pythonRead/'\n",
    "for files in os.listdir(caminho):\n",
    "    print(files)\n",
    "    "
   ]
  },
  {
   "cell_type": "code",
   "execution_count": null,
   "metadata": {},
   "outputs": [],
   "source": []
  },
  {
   "cell_type": "code",
   "execution_count": 47,
   "metadata": {},
   "outputs": [
    {
     "name": "stdout",
     "output_type": "stream",
     "text": [
      "C:/Users/Diego/Desktop/pythonRead\\dataSetAnimais.csv\n",
      "C:/Users/Diego/Desktop/pythonRead\\exejoin01.csv\n",
      "C:/Users/Diego/Desktop/pythonRead\\exejoin02.csv\n",
      "C:/Users/Diego/Desktop/pythonRead\\exejoin03.csv\n",
      "C:/Users/Diego/Desktop/pythonRead\\forestfires.csv\n",
      "C:/Users/Diego/Desktop/pythonRead\\planilhaParaTeste.csv\n",
      "C:/Users/Diego/Desktop/pythonRead\\train - Copia.csv\n",
      "C:/Users/Diego/Desktop/pythonRead\\train.csv\n"
     ]
    }
   ],
   "source": [
    "#Seletando os arquivos (Lembrando que o número de arquivos quando delimitado não é o mesmo do contador)\n",
    "for caminho in glob.glob('C:/Users/Diego/Desktop/pythonRead/' + \"**/*csv\", recursive=True):\n",
    "    print(caminho)\n"
   ]
  },
  {
   "cell_type": "code",
   "execution_count": 137,
   "metadata": {},
   "outputs": [
    {
     "name": "stdout",
     "output_type": "stream",
     "text": [
      "C:/Users/Diego/Desktop/pythoncsv\\planilha1.csv\n",
      "C:/Users/Diego/Desktop/pythoncsv\\planilha2.csv\n",
      "**************************\n"
     ]
    },
    {
     "ename": "ValueError",
     "evalue": "DataFrame constructor not properly called!",
     "output_type": "error",
     "traceback": [
      "\u001b[1;31m---------------------------------------------------------------------------\u001b[0m",
      "\u001b[1;31mValueError\u001b[0m                                Traceback (most recent call last)",
      "\u001b[1;32m<ipython-input-137-3256aa78e581>\u001b[0m in \u001b[0;36m<module>\u001b[1;34m\u001b[0m\n\u001b[0;32m      9\u001b[0m \u001b[1;33m\u001b[0m\u001b[0m\n\u001b[0;32m     10\u001b[0m \u001b[1;32mfor\u001b[0m \u001b[0mcaminho\u001b[0m \u001b[1;32min\u001b[0m \u001b[0mglob\u001b[0m\u001b[1;33m.\u001b[0m\u001b[0mglob\u001b[0m\u001b[1;33m(\u001b[0m\u001b[1;34m'C:/Users/Diego/Desktop/pythoncsv/'\u001b[0m \u001b[1;33m+\u001b[0m \u001b[1;34m'**/*'\u001b[0m\u001b[1;33m,\u001b[0m \u001b[0mrecursive\u001b[0m\u001b[1;33m=\u001b[0m\u001b[1;32mTrue\u001b[0m\u001b[1;33m)\u001b[0m\u001b[1;33m:\u001b[0m\u001b[1;33m\u001b[0m\u001b[1;33m\u001b[0m\u001b[0m\n\u001b[1;32m---> 11\u001b[1;33m     \u001b[0mdf\u001b[0m \u001b[1;33m=\u001b[0m \u001b[0mpd\u001b[0m\u001b[1;33m.\u001b[0m\u001b[0mDataFrame\u001b[0m\u001b[1;33m(\u001b[0m\u001b[0mcaminho\u001b[0m\u001b[1;33m)\u001b[0m\u001b[1;33m\u001b[0m\u001b[1;33m\u001b[0m\u001b[0m\n\u001b[0m\u001b[0;32m     12\u001b[0m \u001b[1;33m\u001b[0m\u001b[0m\n\u001b[0;32m     13\u001b[0m \u001b[1;33m\u001b[0m\u001b[0m\n",
      "\u001b[1;32mC:\\ProgramData\\Anaconda3\\lib\\site-packages\\pandas\\core\\frame.py\u001b[0m in \u001b[0;36m__init__\u001b[1;34m(self, data, index, columns, dtype, copy)\u001b[0m\n\u001b[0;32m    420\u001b[0m                                          dtype=values.dtype, copy=False)\n\u001b[0;32m    421\u001b[0m             \u001b[1;32melse\u001b[0m\u001b[1;33m:\u001b[0m\u001b[1;33m\u001b[0m\u001b[1;33m\u001b[0m\u001b[0m\n\u001b[1;32m--> 422\u001b[1;33m                 \u001b[1;32mraise\u001b[0m \u001b[0mValueError\u001b[0m\u001b[1;33m(\u001b[0m\u001b[1;34m'DataFrame constructor not properly called!'\u001b[0m\u001b[1;33m)\u001b[0m\u001b[1;33m\u001b[0m\u001b[1;33m\u001b[0m\u001b[0m\n\u001b[0m\u001b[0;32m    423\u001b[0m \u001b[1;33m\u001b[0m\u001b[0m\n\u001b[0;32m    424\u001b[0m         \u001b[0mNDFrame\u001b[0m\u001b[1;33m.\u001b[0m\u001b[0m__init__\u001b[0m\u001b[1;33m(\u001b[0m\u001b[0mself\u001b[0m\u001b[1;33m,\u001b[0m \u001b[0mmgr\u001b[0m\u001b[1;33m,\u001b[0m \u001b[0mfastpath\u001b[0m\u001b[1;33m=\u001b[0m\u001b[1;32mTrue\u001b[0m\u001b[1;33m)\u001b[0m\u001b[1;33m\u001b[0m\u001b[1;33m\u001b[0m\u001b[0m\n",
      "\u001b[1;31mValueError\u001b[0m: DataFrame constructor not properly called!"
     ]
    }
   ],
   "source": [
    "#Tendando ler as pastas com pandas também\n",
    "\n",
    "\n",
    "for caminho in glob.glob('C:/Users/Diego/Desktop/pythoncsv/' + '**/*', recursive=True):\n",
    "    print(caminho)\n",
    "\n",
    "print(\"**************************\")\n",
    "\n",
    "\n",
    "for caminho in glob.glob('C:/Users/Diego/Desktop/pythoncsv/' + '**/*', recursive=True):\n",
    "    df = pd.DataFrame(caminho)\n",
    "    \n",
    "       \n",
    "\n",
    " \n",
    "       \n",
    "\n",
    "        \n",
    "    \n",
    "\n",
    "\n"
   ]
  },
  {
   "cell_type": "code",
   "execution_count": 56,
   "metadata": {},
   "outputs": [
    {
     "data": {
      "text/html": [
       "<div>\n",
       "<style scoped>\n",
       "    .dataframe tbody tr th:only-of-type {\n",
       "        vertical-align: middle;\n",
       "    }\n",
       "\n",
       "    .dataframe tbody tr th {\n",
       "        vertical-align: top;\n",
       "    }\n",
       "\n",
       "    .dataframe thead th {\n",
       "        text-align: right;\n",
       "    }\n",
       "</style>\n",
       "<table border=\"1\" class=\"dataframe\">\n",
       "  <thead>\n",
       "    <tr style=\"text-align: right;\">\n",
       "      <th></th>\n",
       "      <th>0</th>\n",
       "    </tr>\n",
       "  </thead>\n",
       "  <tbody>\n",
       "    <tr>\n",
       "      <th>0</th>\n",
       "      <td>1</td>\n",
       "    </tr>\n",
       "    <tr>\n",
       "      <th>1</th>\n",
       "      <td>2</td>\n",
       "    </tr>\n",
       "    <tr>\n",
       "      <th>2</th>\n",
       "      <td>3</td>\n",
       "    </tr>\n",
       "    <tr>\n",
       "      <th>3</th>\n",
       "      <td>4</td>\n",
       "    </tr>\n",
       "  </tbody>\n",
       "</table>\n",
       "</div>"
      ],
      "text/plain": [
       "   0\n",
       "0  1\n",
       "1  2\n",
       "2  3\n",
       "3  4"
      ]
     },
     "execution_count": 56,
     "metadata": {},
     "output_type": "execute_result"
    }
   ],
   "source": [
    "X = [1,2,3,4]\n",
    "Y = ['A','B','C','D']\n",
    "\n",
    "grafi = pd.DataFrame(X)\n",
    "grafi\n",
    "\n",
    "\n",
    "'C:/Users/Diego/Desktop/pythonRead/dataSetAnimais.csv'"
   ]
  },
  {
   "cell_type": "code",
   "execution_count": 42,
   "metadata": {},
   "outputs": [
    {
     "data": {
      "text/html": [
       "<div>\n",
       "<style scoped>\n",
       "    .dataframe tbody tr th:only-of-type {\n",
       "        vertical-align: middle;\n",
       "    }\n",
       "\n",
       "    .dataframe tbody tr th {\n",
       "        vertical-align: top;\n",
       "    }\n",
       "\n",
       "    .dataframe thead th {\n",
       "        text-align: right;\n",
       "    }\n",
       "</style>\n",
       "<table border=\"1\" class=\"dataframe\">\n",
       "  <thead>\n",
       "    <tr style=\"text-align: right;\">\n",
       "      <th></th>\n",
       "      <th>record_id</th>\n",
       "      <th>month</th>\n",
       "      <th>day</th>\n",
       "      <th>year</th>\n",
       "      <th>plot_id</th>\n",
       "      <th>species_id</th>\n",
       "      <th>sex</th>\n",
       "      <th>hindfoot_length</th>\n",
       "      <th>weight</th>\n",
       "      <th>genus</th>\n",
       "      <th>species</th>\n",
       "      <th>taxa</th>\n",
       "      <th>plot_type</th>\n",
       "    </tr>\n",
       "  </thead>\n",
       "  <tbody>\n",
       "    <tr>\n",
       "      <th>0</th>\n",
       "      <td>1</td>\n",
       "      <td>7</td>\n",
       "      <td>16</td>\n",
       "      <td>1977</td>\n",
       "      <td>2</td>\n",
       "      <td>NL</td>\n",
       "      <td>M</td>\n",
       "      <td>32.0</td>\n",
       "      <td>NaN</td>\n",
       "      <td>Neotoma</td>\n",
       "      <td>albigula</td>\n",
       "      <td>Rodent</td>\n",
       "      <td>Control</td>\n",
       "    </tr>\n",
       "    <tr>\n",
       "      <th>1</th>\n",
       "      <td>72</td>\n",
       "      <td>8</td>\n",
       "      <td>19</td>\n",
       "      <td>1977</td>\n",
       "      <td>2</td>\n",
       "      <td>NL</td>\n",
       "      <td>M</td>\n",
       "      <td>31.0</td>\n",
       "      <td>NaN</td>\n",
       "      <td>Neotoma</td>\n",
       "      <td>albigula</td>\n",
       "      <td>Rodent</td>\n",
       "      <td>Control</td>\n",
       "    </tr>\n",
       "    <tr>\n",
       "      <th>2</th>\n",
       "      <td>224</td>\n",
       "      <td>9</td>\n",
       "      <td>13</td>\n",
       "      <td>1977</td>\n",
       "      <td>2</td>\n",
       "      <td>NL</td>\n",
       "      <td>NaN</td>\n",
       "      <td>NaN</td>\n",
       "      <td>NaN</td>\n",
       "      <td>Neotoma</td>\n",
       "      <td>albigula</td>\n",
       "      <td>Rodent</td>\n",
       "      <td>Control</td>\n",
       "    </tr>\n",
       "    <tr>\n",
       "      <th>3</th>\n",
       "      <td>266</td>\n",
       "      <td>10</td>\n",
       "      <td>16</td>\n",
       "      <td>1977</td>\n",
       "      <td>2</td>\n",
       "      <td>NL</td>\n",
       "      <td>NaN</td>\n",
       "      <td>NaN</td>\n",
       "      <td>NaN</td>\n",
       "      <td>Neotoma</td>\n",
       "      <td>albigula</td>\n",
       "      <td>Rodent</td>\n",
       "      <td>Control</td>\n",
       "    </tr>\n",
       "    <tr>\n",
       "      <th>4</th>\n",
       "      <td>349</td>\n",
       "      <td>11</td>\n",
       "      <td>12</td>\n",
       "      <td>1977</td>\n",
       "      <td>2</td>\n",
       "      <td>NL</td>\n",
       "      <td>NaN</td>\n",
       "      <td>NaN</td>\n",
       "      <td>NaN</td>\n",
       "      <td>Neotoma</td>\n",
       "      <td>albigula</td>\n",
       "      <td>Rodent</td>\n",
       "      <td>Control</td>\n",
       "    </tr>\n",
       "  </tbody>\n",
       "</table>\n",
       "</div>"
      ],
      "text/plain": [
       "   record_id  month  day  year  plot_id species_id  sex  hindfoot_length  \\\n",
       "0          1      7   16  1977        2         NL    M             32.0   \n",
       "1         72      8   19  1977        2         NL    M             31.0   \n",
       "2        224      9   13  1977        2         NL  NaN              NaN   \n",
       "3        266     10   16  1977        2         NL  NaN              NaN   \n",
       "4        349     11   12  1977        2         NL  NaN              NaN   \n",
       "\n",
       "   weight    genus   species    taxa plot_type  \n",
       "0     NaN  Neotoma  albigula  Rodent   Control  \n",
       "1     NaN  Neotoma  albigula  Rodent   Control  \n",
       "2     NaN  Neotoma  albigula  Rodent   Control  \n",
       "3     NaN  Neotoma  albigula  Rodent   Control  \n",
       "4     NaN  Neotoma  albigula  Rodent   Control  "
      ]
     },
     "execution_count": 42,
     "metadata": {},
     "output_type": "execute_result"
    }
   ],
   "source": [
    "path = pd.read_csv(\"C:/Users/Diego/Desktop/pythoncsv\\planilha (1).csv\")\n",
    "path.head()\n",
    "#path.count()\n",
    "\n"
   ]
  },
  {
   "cell_type": "code",
   "execution_count": 99,
   "metadata": {},
   "outputs": [
    {
     "name": "stdout",
     "output_type": "stream",
     "text": [
      "C:/Users/Diego/Desktop/pythoncsv\\planilha (1).csv\n",
      "C:/Users/Diego/Desktop/pythoncsv\\planilha (2).csv\n",
      "C:/Users/Diego/Desktop/pythoncsv\\planilha (3).csv\n",
      "C:/Users/Diego/Desktop/pythoncsv\\planilha (4).csv\n",
      "C:/Users/Diego/Desktop/pythoncsv\\planilha (5).csv\n",
      "C:/Users/Diego/Desktop/pythoncsv\\planilha (6).csv\n"
     ]
    }
   ],
   "source": [
    "for caminho in glob.glob('C:/Users/Diego/Desktop/pythoncsv/' + '**/*',recursive=True):\n",
    "    print(caminho)\n",
    "    \n",
    "with open('C:/Users/Diego/Desktop/pythoncsv/planilha (1).csv','w')as F:\n",
    "    print    \n",
    "    "
   ]
  },
  {
   "cell_type": "code",
   "execution_count": 184,
   "metadata": {},
   "outputs": [
    {
     "name": "stdout",
     "output_type": "stream",
     "text": [
      "   record_id,\"month\",\"day\",\"year\",\"plot_id\",\"species_id\",\"sex\",\"hindfoot_length\",\"weight\",\"genus\",\"species\",\"taxa\",\"plot_type\"\n",
      "0   1,7,16,1977,2,\"NL\",\"M\",\"32\",\"\",\"Neotoma\",\"albi...                                                                         \n",
      "1   72,8,19,1977,2,\"NL\",\"M\",\"31\",\"\",\"Neotoma\",\"alb...                                                                         \n",
      "2   224,9,13,1977,2,\"NL\",\"\",\"\",\"\",\"Neotoma\",\"albig...                                                                         \n",
      "3   266,10,16,1977,2,\"NL\",\"\",\"\",\"\",\"Neotoma\",\"albi...                                                                         \n",
      "4   349,11,12,1977,2,\"NL\",\"\",\"\",\"\",\"Neotoma\",\"albi...                                                                         \n",
      "5   363,11,12,1977,2,\"NL\",\"\",\"\",\"\",\"Neotoma\",\"albi...                                                                         \n",
      "6   435,12,10,1977,2,\"NL\",\"\",\"\",\"\",\"Neotoma\",\"albi...                                                                         \n",
      "7   506,1,8,1978,2,\"NL\",\"\",\"\",\"\",\"Neotoma\",\"albigu...                                                                         \n",
      "8   588,2,18,1978,2,\"NL\",\"M\",\"\",\"218\",\"Neotoma\",\"a...                                                                         \n",
      "9   1,7,16,1977,2,\"NL\",\"M\",\"32\",\"\",\"Neotoma\",\"albi...                                                                         \n",
      "10  72,8,19,1977,2,\"NL\",\"M\",\"31\",\"\",\"Neotoma\",\"alb...                                                                         \n",
      "11  224,9,13,1977,2,\"NL\",\"\",\"\",\"\",\"Neotoma\",\"albig...                                                                         \n",
      "12  266,10,16,1977,2,\"NL\",\"\",\"\",\"\",\"Neotoma\",\"albi...                                                                         \n",
      "13  349,11,12,1977,2,\"NL\",\"\",\"\",\"\",\"Neotoma\",\"albi...                                                                         \n",
      "14  363,11,12,1977,2,\"NL\",\"\",\"\",\"\",\"Neotoma\",\"albi...                                                                         \n",
      "15  435,12,10,1977,2,\"NL\",\"\",\"\",\"\",\"Neotoma\",\"albi...                                                                         \n",
      "16  506,1,8,1978,2,\"NL\",\"\",\"\",\"\",\"Neotoma\",\"albigu...                                                                         \n",
      "17  588,2,18,1978,2,\"NL\",\"M\",\"\",\"218\",\"Neotoma\",\"a...                                                                         \n"
     ]
    }
   ],
   "source": [
    "#Tem que ter o mesmo numero de colunas\n",
    "path = 'C:/Users/Diego/Desktop/pythoncsv' #pasta root\n",
    "allfiles = glob.glob(path + \"/*.csv\")\n",
    "\n",
    "li = []\n",
    "\n",
    "for listinha in allfiles:\n",
    "    f = pd.read_csv(listinha, index_col=None, header=0)\n",
    "    li.append(f)\n",
    "frame = pd.concat(li, axis=0, ignore_index=True)\n",
    "print(frame)\n",
    "\n",
    " \n",
    "   \n",
    "\n",
    "\n",
    "\n",
    "\n",
    "\n"
   ]
  },
  {
   "cell_type": "code",
   "execution_count": 37,
   "metadata": {},
   "outputs": [
    {
     "data": {
      "text/plain": [
       "record_id          34786\n",
       "month              34786\n",
       "day                34786\n",
       "year               34786\n",
       "plot_id            34786\n",
       "species_id         34786\n",
       "sex                33038\n",
       "hindfoot_length    31438\n",
       "weight             32283\n",
       "genus              34786\n",
       "species            34786\n",
       "taxa               34786\n",
       "plot_type          34786\n",
       "dtype: int64"
      ]
     },
     "execution_count": 37,
     "metadata": {},
     "output_type": "execute_result"
    }
   ],
   "source": [
    "caminho = 'C:/pastaX/pastaY/pastaZ'\n",
    "\n",
    "df=pd.read_csv(caminho,encoding=\"utf-8\")\n",
    "df.head()\n",
    "df.count()\n",
    "df.columns\n",
    "df.index\n"
   ]
  },
  {
   "cell_type": "code",
   "execution_count": null,
   "metadata": {},
   "outputs": [],
   "source": []
  }
 ],
 "metadata": {
  "kernelspec": {
   "display_name": "Python 3",
   "language": "python",
   "name": "python3"
  },
  "language_info": {
   "codemirror_mode": {
    "name": "ipython",
    "version": 3
   },
   "file_extension": ".py",
   "mimetype": "text/x-python",
   "name": "python",
   "nbconvert_exporter": "python",
   "pygments_lexer": "ipython3",
   "version": "3.7.1"
  }
 },
 "nbformat": 4,
 "nbformat_minor": 2
}
