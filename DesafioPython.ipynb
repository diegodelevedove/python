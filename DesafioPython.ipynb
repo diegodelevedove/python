{
 "cells": [
  {
   "cell_type": "code",
   "execution_count": 3,
   "metadata": {},
   "outputs": [
    {
     "data": {
      "text/plain": [
       "274877906944"
      ]
     },
     "execution_count": 3,
     "metadata": {},
     "output_type": "execute_result"
    }
   ],
   "source": [
    "#http://www.pythonchallenge.com/\n",
    "#1 - Questão\n",
    "x = 2**38\n",
    "x\n"
   ]
  },
  {
   "cell_type": "code",
   "execution_count": 49,
   "metadata": {},
   "outputs": [
    {
     "ename": "IndexError",
     "evalue": "list index out of range",
     "output_type": "error",
     "traceback": [
      "\u001b[1;31m---------------------------------------------------------------------------\u001b[0m",
      "\u001b[1;31mIndexError\u001b[0m                                Traceback (most recent call last)",
      "\u001b[1;32m<ipython-input-49-236e279f5ef3>\u001b[0m in \u001b[0;36m<module>\u001b[1;34m\u001b[0m\n\u001b[0;32m     27\u001b[0m \u001b[0mfoo\u001b[0m \u001b[1;33m=\u001b[0m \u001b[0mstring\u001b[0m\u001b[1;33m.\u001b[0m\u001b[0msplit\u001b[0m\u001b[1;33m(\u001b[0m\u001b[1;33m)\u001b[0m\u001b[1;33m\u001b[0m\u001b[1;33m\u001b[0m\u001b[0m\n\u001b[0;32m     28\u001b[0m \u001b[0mtype\u001b[0m\u001b[1;33m(\u001b[0m\u001b[0mfoo\u001b[0m\u001b[1;33m)\u001b[0m\u001b[1;33m\u001b[0m\u001b[1;33m\u001b[0m\u001b[0m\n\u001b[1;32m---> 29\u001b[1;33m \u001b[0mprint\u001b[0m\u001b[1;33m(\u001b[0m\u001b[0mfoo\u001b[0m\u001b[1;33m[\u001b[0m\u001b[1;36m2\u001b[0m\u001b[1;33m]\u001b[0m\u001b[1;33m)\u001b[0m\u001b[1;33m\u001b[0m\u001b[1;33m\u001b[0m\u001b[0m\n\u001b[0m\u001b[0;32m     30\u001b[0m \u001b[1;33m\u001b[0m\u001b[0m\n\u001b[0;32m     31\u001b[0m \u001b[1;33m\u001b[0m\u001b[0m\n",
      "\u001b[1;31mIndexError\u001b[0m: list index out of range"
     ]
    }
   ],
   "source": [
    "#g fmnc wms bgblr rpylqjyrc gr zw fylb. \n",
    "#rfyrq ufyr amknsrcpq ypc dmp. \n",
    "#bmgle gr gl zw fylb gq glcddgagclr \n",
    "#ylb rfyr'q ufw rfgq rcvr gq qm jmle. \n",
    "#sqgle qrpgle.kyicrpylq() gq pcamkkclbcb. \n",
    "#lmu ynnjw ml rfc spj.\n",
    "\n",
    "#k = M\n",
    "#O = Q\n",
    "#E = G\n",
    "\n",
    "#o segredo da chave é mais complicado\n",
    "#ele dá um saldo de letras padrão\n",
    "#a->c\n",
    "#d->f\n",
    "#f->h\n",
    "#i->\n",
    "    \n",
    "str = \"g fmnc wms bgblr rpylqjyrc gr zw fylb. rfyrq ufyr amknsrcpq ypc dmp. bmgle gr gl zw fylb gq glcddgagclr ylb rfyr'q ufw rfgq rcvr gq qm jmle. sqgle qrpgle.kyicrpylq() gq pcamkkclbcb. lmu ynnjw ml rfc spj.\"\n",
    "#tamanho = len(str)\n",
    "#tamanho\n",
    "#for x in range(1):\n",
    "#    y = str.replace('k','m')\n",
    "#    for y in range(1):\n",
    "#        z = str.replace('o','q')\n",
    "#        for w in range(1):\n",
    "#            w = str.replace('e','g')\n",
    "#            print(w)\n",
    "\n",
    "#Vamos tentar inverter a string\n",
    "string = \"Diego\"\n",
    "#foo = string.split()\n",
    "#type(foo)\n",
    "\n",
    "\n",
    "\n",
    "            \n",
    "    \n",
    "  "
   ]
  },
  {
   "cell_type": "code",
   "execution_count": 60,
   "metadata": {},
   "outputs": [
    {
     "name": "stdout",
     "output_type": "stream",
     "text": [
      "i hope wos biblt tpylqjyte it zw hylb. thytq uhyt aokpstepq ype dop. boile it il zw hylb iq ileddiaielt ylb thyt'q uhw thiq text iq qo jole. sqile qtpile.kyietpylq() iq peaokkelbeb. lou yppjw ol the spj.\n"
     ]
    }
   ],
   "source": [
    "#A B C D E F G H I J K L M N O P Q R S T U V W X Y Z\n",
    "#i hope wos biblt tpylqjyte it zw hylb.\n",
    "\n",
    "str3 = \"g fmnc wms bgblr rpylqjyrc gr zw fylb. rfyrq ufyr amknsrcpq ypc dmp. bmgle gr gl zw fylb gq glcddgagclr ylb rfyr'q ufw rfgq rcvr gq qm jmle. sqgle qrpgle.kyicrpylq() gq pcamkkclbcb. lmu ynnjw ml rfc spj.\"\n",
    "for a in range(1):\n",
    "    a = str3.replace('g','i')\n",
    "    for b in range(1):\n",
    "        b = a.replace('c','e')\n",
    "        for c in range(1):\n",
    "            c = b.replace('f','h')\n",
    "            for d in range(1):\n",
    "                d = c.replace('m','o')\n",
    "                for e in range(1):\n",
    "                    e = d.replace('n','p')\n",
    "                    for f in range(1):\n",
    "                        f = e.replace(\"r\",'t')\n",
    "                        for g in range(1):\n",
    "                            g = f.replace(\"v\" ,'x')\n",
    "                            print(g)\n",
    "                            \n",
    "        \n",
    "                    \n",
    "    \n",
    "    \n",
    "                                                 \n",
    "                    \n",
    "                \n",
    "            \n",
    "    \n",
    "       \n",
    "                                \n",
    "                                \n",
    "                        \n",
    "                    \n",
    "            "
   ]
  },
  {
   "cell_type": "code",
   "execution_count": null,
   "metadata": {},
   "outputs": [],
   "source": [
    "#e -> g\n",
    "#k - > m\n",
    "#o - > q\n",
    "\n",
    "\n"
   ]
  }
 ],
 "metadata": {
  "kernelspec": {
   "display_name": "Python 3",
   "language": "python",
   "name": "python3"
  },
  "language_info": {
   "codemirror_mode": {
    "name": "ipython",
    "version": 3
   },
   "file_extension": ".py",
   "mimetype": "text/x-python",
   "name": "python",
   "nbconvert_exporter": "python",
   "pygments_lexer": "ipython3",
   "version": "3.7.1"
  }
 },
 "nbformat": 4,
 "nbformat_minor": 2
}
