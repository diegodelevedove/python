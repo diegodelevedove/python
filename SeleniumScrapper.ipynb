{
 "cells": [
  {
   "cell_type": "code",
   "execution_count": 1,
   "metadata": {},
   "outputs": [],
   "source": [
    "#Scrapp com Selenium e python\n",
    "#https://selenium-python.readthedocs.io/\n",
    "#Olhe o Restante no Cloud9\n",
    "#ibm tuto = https://www.ibm.com/developerworks/br/library/os-webautoselenium/index.html\n",
    "#se der pal no selenium - instale https://www.ibm.com/developerworks/br/library/os-webautoselenium/index.html\n",
    "\n",
    "from selenium import webdriver\n",
    "import os\n",
    "import time\n",
    "from selenium.webdriver.common.keys import Keys\n",
    "import numpy as np\n",
    "import pandas as pd\n",
    "import time\n",
    "from selenium.webdriver.support.select import Select\n"
   ]
  },
  {
   "cell_type": "code",
   "execution_count": 2,
   "metadata": {},
   "outputs": [],
   "source": [
    "#Defininido os drivers do scrapper\n",
    "#Precisa Executar os blocos de cima pra baixo\n",
    "\n",
    "\n",
    "chromedriver = \"chromedriver.exe\"\n",
    "os.environ[\"webddriver.chromedriver\"] = chromedriver\n",
    "#Definindo o Navegador para o Scrapper - Usando Local\n",
    "driver = webdriver.Chrome(\"C:/Program Files (x86)/Google/Chrome/Application/chromedriver.exe\") #Tem que baixar esse driver e instalar localmente\n",
    "#Definindo o Site para pegar os Dados\n",
    "driver.get(\"http://www.youtube.com\") #web site pra pegar\n"
   ]
  },
  {
   "cell_type": "code",
   "execution_count": 3,
   "metadata": {},
   "outputs": [],
   "source": [
    "#Trabalhando na Página\n",
    "#Busque Mais Referências no cookbook do Selenium (Mais elementos do Dom)\n",
    "\n",
    "input_nome = driver.find_element_by_id(\"search\")\n",
    "input_nome.click()\n",
    "time.sleep(2)\n",
    "video = driver.find_element_by_css_selector(\"input[name='search_query']\")\n",
    "video.click()\n",
    "video.send_keys('Bathory Full Album')\n",
    "botao = driver.find_element_by_id('search-icon-legacy')\n",
    "botao.click()"
   ]
  },
  {
   "cell_type": "code",
   "execution_count": null,
   "metadata": {},
   "outputs": [],
   "source": []
  }
 ],
 "metadata": {
  "kernelspec": {
   "display_name": "Python 3",
   "language": "python",
   "name": "python3"
  },
  "language_info": {
   "codemirror_mode": {
    "name": "ipython",
    "version": 3
   },
   "file_extension": ".py",
   "mimetype": "text/x-python",
   "name": "python",
   "nbconvert_exporter": "python",
   "pygments_lexer": "ipython3",
   "version": "3.7.1"
  }
 },
 "nbformat": 4,
 "nbformat_minor": 2
}
